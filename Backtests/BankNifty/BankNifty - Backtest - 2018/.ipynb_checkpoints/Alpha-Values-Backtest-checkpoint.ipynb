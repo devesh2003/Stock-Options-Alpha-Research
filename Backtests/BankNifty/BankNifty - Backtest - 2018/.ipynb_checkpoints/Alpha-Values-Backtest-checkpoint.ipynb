{
 "cells": [
  {
   "cell_type": "markdown",
   "metadata": {},
   "source": [
    "## BankNifty Alpha BackTest 2018\n"
   ]
  },
  {
   "cell_type": "code",
   "execution_count": 1,
   "metadata": {},
   "outputs": [],
   "source": [
    "import pandas as pd\n",
    "from matplotlib.pyplot import plot\n",
    "from statistics import *\n",
    "import sys\n",
    "sys.path.insert(1,\"../\")\n",
    "from AlphaTests import *"
   ]
  },
  {
   "cell_type": "code",
   "execution_count": 2,
   "metadata": {},
   "outputs": [],
   "source": [
    "options = [\"banknifty-options-PE-1.csv\",\n",
    "          \"banknifty-options-PE-2.csv\",\n",
    "          \"banknifty-options-PE-3.csv\",\n",
    "          \"banknifty-options-PE-4.csv\",\n",
    "          \"banknifty-options-PE-5.csv\",\n",
    "          \"banknifty-options-PE-6.csv\",]\n",
    "\n",
    "prices = [\"banknifty-prices-1.csv\",\n",
    "          \"banknifty-prices-2.csv\",\n",
    "          \"banknifty-prices-3.csv\",\n",
    "          \"banknifty-prices-4.csv\",\n",
    "          \"banknifty-prices-5.csv\",\n",
    "          \"banknifty-prices-6.csv\",]"
   ]
  },
  {
   "cell_type": "code",
   "execution_count": 3,
   "metadata": {},
   "outputs": [],
   "source": [
    "loader = Loader(options,prices)"
   ]
  },
  {
   "cell_type": "code",
   "execution_count": 4,
   "metadata": {
    "scrolled": true
   },
   "outputs": [
    {
     "name": "stdout",
     "output_type": "stream",
     "text": [
      "Mean Threshold : 1.085000\n"
     ]
    },
    {
     "data": {
      "text/plain": [
       "[2.0000000000000013,\n",
       " 0.5100000000000001,\n",
       " 1.4100000000000008,\n",
       " 1.4300000000000008,\n",
       " 0.36000000000000004,\n",
       " 0.8000000000000004]"
      ]
     },
     "execution_count": 4,
     "metadata": {},
     "output_type": "execute_result"
    }
   ],
   "source": [
    "loader.find_individual_optimal_threshold()"
   ]
  },
  {
   "cell_type": "code",
   "execution_count": 5,
   "metadata": {},
   "outputs": [
    {
     "data": {
      "text/plain": [
       "[1.2700000000000007,\n",
       " 507.54954001949517,\n",
       " -10,\n",
       " 462.3974099173663,\n",
       " 969.9469499368614]"
      ]
     },
     "execution_count": 5,
     "metadata": {},
     "output_type": "execute_result"
    }
   ],
   "source": [
    "loader.maximize_returns()"
   ]
  },
  {
   "cell_type": "code",
   "execution_count": 6,
   "metadata": {},
   "outputs": [
    {
     "data": {
      "text/plain": [
       "[0.31, 28.55728429985856, -10, 70, 98.55728429985857]"
      ]
     },
     "execution_count": 6,
     "metadata": {},
     "output_type": "execute_result"
    }
   ],
   "source": [
    "loader.minimize_losses(True)"
   ]
  },
  {
   "cell_type": "code",
   "execution_count": 11,
   "metadata": {},
   "outputs": [
    {
     "data": {
      "image/png": "[encoded data removed]",
      "text/plain": [
       "<Figure size 432x288 with 1 Axes>"
      ]
     },
     "metadata": {
      "needs_background": "light"
     },
     "output_type": "display_data"
    }
   ],
   "source": [
    "loader.plot_scatter(1.27,limit=2.7)"
   ]
  },
  {
   "cell_type": "code",
   "execution_count": null,
   "metadata": {},
   "outputs": [],
   "source": []
  }
 ],
 "metadata": {
  "kernelspec": {
   "display_name": "Python 3 (ipykernel)",
   "language": "python",
   "name": "python3"
  },
  "language_info": {
   "codemirror_mode": {
    "name": "ipython",
    "version": 3
   },
   "file_extension": ".py",
   "mimetype": "text/x-python",
   "name": "python",
   "nbconvert_exporter": "python",
   "pygments_lexer": "ipython3",
   "version": "3.7.0"
  }
 },
 "nbformat": 4,
 "nbformat_minor": 4
}
