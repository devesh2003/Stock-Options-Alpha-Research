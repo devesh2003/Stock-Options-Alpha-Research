{
 "cells": [
  {
   "cell_type": "markdown",
   "metadata": {},
   "source": [
    "## BankNifty Alpha BackTest 2018\n"
   ]
  },
  {
   "cell_type": "code",
   "execution_count": 1,
   "metadata": {},
   "outputs": [],
   "source": [
    "import pandas as pd\n",
    "from matplotlib.pyplot import plot\n",
    "from statistics import *\n",
    "import sys\n",
    "sys.path.insert(1,\"../\")\n",
    "from AlphaTests import *"
   ]
  },
  {
   "cell_type": "code",
   "execution_count": 2,
   "metadata": {},
   "outputs": [],
   "source": [
    "options = [\"banknifty-options-PE-1.csv\",\n",
    "          \"banknifty-options-PE-2.csv\",\n",
    "          \"banknifty-options-PE-3.csv\",\n",
    "          \"banknifty-options-PE-4.csv\",\n",
    "          \"banknifty-options-PE-5.csv\",\n",
    "          \"banknifty-options-PE-6.csv\",]\n",
    "\n",
    "prices = [\"banknifty-prices-1.csv\",\n",
    "          \"banknifty-prices-2.csv\",\n",
    "          \"banknifty-prices-3.csv\",\n",
    "          \"banknifty-prices-4.csv\",\n",
    "          \"banknifty-prices-5.csv\",\n",
    "          \"banknifty-prices-6.csv\",]"
   ]
  },
  {
   "cell_type": "code",
   "execution_count": 4,
   "metadata": {},
   "outputs": [],
   "source": [
    "loader = Loader(options,prices)"
   ]
  },
  {
   "cell_type": "code",
   "execution_count": 4,
   "metadata": {
    "scrolled": true
   },
   "outputs": [
    {
     "name": "stdout",
     "output_type": "stream",
     "text": [
      "Mean Threshold : 1.085000\n"
     ]
    },
    {
     "data": {
      "text/plain": [
       "[2.0000000000000013,\n",
       " 0.5100000000000001,\n",
       " 1.4100000000000008,\n",
       " 1.4300000000000008,\n",
       " 0.36000000000000004,\n",
       " 0.8000000000000004]"
      ]
     },
     "execution_count": 4,
     "metadata": {},
     "output_type": "execute_result"
    }
   ],
   "source": [
    "loader.find_individual_optimal_threshold()"
   ]
  },
  {
   "cell_type": "code",
   "execution_count": 5,
   "metadata": {},
   "outputs": [
    {
     "data": {
      "text/plain": [
       "[1.2700000000000007,\n",
       " 507.54954001949517,\n",
       " -10,\n",
       " 462.3974099173663,\n",
       " 969.9469499368614]"
      ]
     },
     "execution_count": 5,
     "metadata": {},
     "output_type": "execute_result"
    }
   ],
   "source": [
    "loader.maximize_returns()"
   ]
  },
  {
   "cell_type": "code",
   "execution_count": 13,
   "metadata": {
    "scrolled": true
   },
   "outputs": [
    {
     "data": {
      "text/plain": [
       "[0.31, 28.55728429985856, -10, 70, 98.55728429985857]"
      ]
     },
     "execution_count": 13,
     "metadata": {},
     "output_type": "execute_result"
    }
   ],
   "source": [
    "loader.minimize_losses()"
   ]
  },
  {
   "cell_type": "code",
   "execution_count": 6,
   "metadata": {},
   "outputs": [
    {
     "data": {
      "image/png": "[encoded data removed]",
      "text/plain": [
       "<Figure size 432x288 with 1 Axes>"
      ]
     },
     "metadata": {
      "needs_background": "light"
     },
     "output_type": "display_data"
    }
   ],
   "source": [
    "test_thresh = 0.5\n",
    "loader.plot_scatter(test_thresh,limit=test_thresh*2)"
   ]
  },
  {
   "cell_type": "code",
   "execution_count": 6,
   "metadata": {},
   "outputs": [
    {
     "data": {
      "text/plain": [
       "-26.61866467525997"
      ]
     },
     "execution_count": 6,
     "metadata": {},
     "output_type": "execute_result"
    }
   ],
   "source": [
    "loader.find_net_returns(0.5)"
   ]
  },
  {
   "cell_type": "code",
   "execution_count": 23,
   "metadata": {},
   "outputs": [],
   "source": [
    "options_df = []\n",
    "for i in options:\n",
    "    options_df.append(pd.read_csv(i))"
   ]
  },
  {
   "cell_type": "code",
   "execution_count": 24,
   "metadata": {},
   "outputs": [],
   "source": [
    "df = pd.concat(options_df)\n",
    "df[\"Alpha\"] = (df[\"Close\"] - df[\"Strike Price\"]) / df[\"Close\"]\n",
    "# options[\"Alpha-Prev\"] = options.Alpha.shift(1)\n",
    "df[\"Alpha-Change\"] = ((df[\"Alpha\"] - df.Alpha.shift(1)) / df[\"Alpha\"])*100\n",
    "df[\"Alpha-Mean\"] = (df.Alpha.shift(1)+df.Alpha.shift(2)+df.Alpha.shift(3)) / 3\n",
    "df[\"Change\"] = ((df[\"Close\"] - df[\"Open\"]) / df[\"Open\"])*100"
   ]
  },
  {
   "cell_type": "code",
   "execution_count": 25,
   "metadata": {},
   "outputs": [],
   "source": [
    "df.to_csv(\"main-options-ce.csv\")"
   ]
  },
  {
   "cell_type": "code",
   "execution_count": null,
   "metadata": {},
   "outputs": [],
   "source": []
  }
 ],
 "metadata": {
  "kernelspec": {
   "display_name": "Python 3 (ipykernel)",
   "language": "python",
   "name": "python3"
  },
  "language_info": {
   "codemirror_mode": {
    "name": "ipython",
    "version": 3
   },
   "file_extension": ".py",
   "mimetype": "text/x-python",
   "name": "python",
   "nbconvert_exporter": "python",
   "pygments_lexer": "ipython3",
   "version": "3.7.0"
  }
 },
 "nbformat": 4,
 "nbformat_minor": 4
}
