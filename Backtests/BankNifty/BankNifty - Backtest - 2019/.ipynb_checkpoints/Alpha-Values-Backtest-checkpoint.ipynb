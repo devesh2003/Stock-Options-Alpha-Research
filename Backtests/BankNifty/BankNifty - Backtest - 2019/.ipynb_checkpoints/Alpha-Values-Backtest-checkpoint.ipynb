{
 "cells": [
  {
   "cell_type": "markdown",
   "metadata": {},
   "source": [
    "## BankNifty Alpha Backtest 2022"
   ]
  },
  {
   "cell_type": "code",
   "execution_count": 1,
   "metadata": {},
   "outputs": [],
   "source": [
    "import pandas as pd\n",
    "from matplotlib.pyplot import plot\n",
    "from statistics import *\n",
    "import sys\n",
    "sys.path.insert(1,\"../\")\n",
    "import numpy as np\n",
    "from AlphaTests import *"
   ]
  },
  {
   "cell_type": "code",
   "execution_count": 3,
   "metadata": {},
   "outputs": [],
   "source": [
    "options = [\"banknifty-options-1.csv\",\n",
    "          \"banknifty-options-2.csv\",\n",
    "          \"banknifty-options-3.csv\",\n",
    "           \"banknifty-options-4.csv\",\n",
    "           \"banknifty-options-5.csv\",\n",
    "           \"banknifty-options-6.csv\",\n",
    "           \"banknifty-options-7.csv\",\n",
    "           \"banknifty-options-8.csv\",\n",
    "           \"banknifty-options-9.csv\",\n",
    "           \"banknifty-options-10.csv\",\n",
    "           \"banknifty-options-11.csv\",\n",
    "           \"banknifty-options-12.csv\"\n",
    "          ]\n",
    "\n",
    "prices = [\"banknifty-prices-1.csv\",\n",
    "          \"banknifty-prices-2.csv\",\n",
    "          \"banknifty-prices-3.csv\",\n",
    "          \"banknifty-prices-4.csv\",\n",
    "          \"banknifty-prices-5.csv\",\n",
    "          \"banknifty-prices-6.csv\",\n",
    "          \"banknifty-prices-7.csv\",\n",
    "          \"banknifty-prices-8.csv\",\n",
    "          \"banknifty-prices-9.csv\",\n",
    "          \"banknifty-prices-10.csv\",\n",
    "          \"banknifty-prices-11.csv\",\n",
    "          \"banknifty-prices-12.csv\",\n",
    "          ]"
   ]
  },
  {
   "cell_type": "code",
   "execution_count": 5,
   "metadata": {},
   "outputs": [],
   "source": [
    "loader = Loader(options,prices)"
   ]
  },
  {
   "cell_type": "code",
   "execution_count": 6,
   "metadata": {},
   "outputs": [
    {
     "data": {
      "text/plain": [
       "[1.1400000000000006,\n",
       " 255.83204010375394,\n",
       " -19.704231137888552,\n",
       " 473.62146385575977,\n",
       " 729.4535039595138]"
      ]
     },
     "execution_count": 6,
     "metadata": {},
     "output_type": "execute_result"
    }
   ],
   "source": [
    "loader.maximize_returns()"
   ]
  },
  {
   "cell_type": "code",
   "execution_count": 7,
   "metadata": {},
   "outputs": [
    {
     "data": {
      "text/plain": [
       "[1.9400000000000013,\n",
       " 227.5394309331716,\n",
       " -19.704231137888552,\n",
       " 282.7735530626983,\n",
       " 510.3129839958699]"
      ]
     },
     "execution_count": 7,
     "metadata": {},
     "output_type": "execute_result"
    }
   ],
   "source": [
    "loader.minimize_losses()"
   ]
  },
  {
   "cell_type": "code",
   "execution_count": 8,
   "metadata": {},
   "outputs": [
    {
     "data": {
      "text/plain": [
       "116.0743064531296"
      ]
     },
     "execution_count": 8,
     "metadata": {},
     "output_type": "execute_result"
    }
   ],
   "source": [
    "loader.find_net_returns(1)"
   ]
  },
  {
   "cell_type": "code",
   "execution_count": 9,
   "metadata": {},
   "outputs": [
    {
     "data": {
      "image/png": "[encoded data removed]",
      "text/plain": [
       "<Figure size 432x288 with 1 Axes>"
      ]
     },
     "metadata": {
      "needs_background": "light"
     },
     "output_type": "display_data"
    }
   ],
   "source": [
    "loader.plot_scatter(1.96,limit=12)"
   ]
  },
  {
   "cell_type": "code",
   "execution_count": null,
   "metadata": {},
   "outputs": [],
   "source": []
  }
 ],
 "metadata": {
  "kernelspec": {
   "display_name": "Python 3",
   "language": "python",
   "name": "python3"
  },
  "language_info": {
   "codemirror_mode": {
    "name": "ipython",
    "version": 3
   },
   "file_extension": ".py",
   "mimetype": "text/x-python",
   "name": "python",
   "nbconvert_exporter": "python",
   "pygments_lexer": "ipython3",
   "version": "3.8.5"
  }
 },
 "nbformat": 4,
 "nbformat_minor": 4
}
