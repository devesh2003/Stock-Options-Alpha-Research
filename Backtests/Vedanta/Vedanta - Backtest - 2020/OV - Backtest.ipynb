{
 "cells": [
  {
   "cell_type": "code",
   "execution_count": 6,
   "id": "723f006a",
   "metadata": {},
   "outputs": [],
   "source": [
    "import pandas as pd\n",
    "from matplotlib.pyplot import *\n",
    "import sys\n",
    "sys.path.insert(1,\"../../\")\n",
    "from OVTests import *"
   ]
  },
  {
   "cell_type": "code",
   "execution_count": 7,
   "id": "b16f21f9",
   "metadata": {},
   "outputs": [],
   "source": [
    "stock = \"VEDL\"\n",
    "options = []\n",
    "prices = []\n",
    "\n",
    "for i in range(12):\n",
    "    options.append(\"%s-options-PE-%s.csv\"%(stock,str(i+1)))\n",
    "    prices.append(\"%s-prices-%s.csv\"%(stock,str(i+1)))"
   ]
  },
  {
   "cell_type": "code",
   "execution_count": 8,
   "id": "fe39c635",
   "metadata": {},
   "outputs": [],
   "source": [
    "loader = Loader(options,prices)"
   ]
  },
  {
   "cell_type": "code",
   "execution_count": 16,
   "id": "fee12e39",
   "metadata": {
    "scrolled": true
   },
   "outputs": [
    {
     "name": "stdout",
     "output_type": "stream",
     "text": [
      "Returns: -60.02740357055567\n",
      "Returns: -16.240097033132646\n",
      "Returns: -82.82539682539681\n",
      "Returns: 23.03965964629414\n",
      "Returns: 35.66425749301033\n",
      "Returns: 23.11977661349309\n",
      "Returns: -9.45038376009763\n",
      "Returns: 20.51412346157782\n",
      "Returns: 23.08370679382748\n",
      "Returns: 134.21573042140417\n",
      "Returns: -4.480254279684905\n",
      "Returns: 61.94147211579743\n"
     ]
    },
    {
     "data": {
      "text/plain": [
       "148.55519107653683"
      ]
     },
     "execution_count": 16,
     "metadata": {},
     "output_type": "execute_result"
    }
   ],
   "source": [
    "loader.find_net_returns(1.5,verbose=True)"
   ]
  },
  {
   "cell_type": "code",
   "execution_count": 12,
   "id": "0211f1ed",
   "metadata": {},
   "outputs": [],
   "source": [
    "loader.generate_results(1.5)"
   ]
  },
  {
   "cell_type": "code",
   "execution_count": 11,
   "id": "ddcaeb6f",
   "metadata": {},
   "outputs": [
    {
     "name": "stdout",
     "output_type": "stream",
     "text": [
      "Max Returns: 267.879468004932\n",
      "Optimal Threshold: 1.8100000000000014\n",
      "Time Taken: 10.123913049697876 seconds\n"
     ]
    },
    {
     "data": {
      "text/plain": [
       "1.8100000000000014"
      ]
     },
     "execution_count": 11,
     "metadata": {},
     "output_type": "execute_result"
    }
   ],
   "source": [
    "loader.find_optimal_threshold(verbose=True)"
   ]
  },
  {
   "cell_type": "code",
   "execution_count": null,
   "id": "d4414f5a",
   "metadata": {},
   "outputs": [],
   "source": []
  }
 ],
 "metadata": {
  "kernelspec": {
   "display_name": "Python 3 (ipykernel)",
   "language": "python",
   "name": "python3"
  },
  "language_info": {
   "codemirror_mode": {
    "name": "ipython",
    "version": 3
   },
   "file_extension": ".py",
   "mimetype": "text/x-python",
   "name": "python",
   "nbconvert_exporter": "python",
   "pygments_lexer": "ipython3",
   "version": "3.7.0"
  }
 },
 "nbformat": 4,
 "nbformat_minor": 5
}
