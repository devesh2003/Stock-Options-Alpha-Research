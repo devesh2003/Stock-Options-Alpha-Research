{
 "cells": [
  {
   "cell_type": "code",
   "execution_count": 77,
   "id": "7edaceec",
   "metadata": {},
   "outputs": [],
   "source": [
    "import pandas as pd\n",
    "from matplotlib.pyplot import *\n",
    "from statistics import mean\n",
    "from time import sleep"
   ]
  },
  {
   "cell_type": "code",
   "execution_count": 19,
   "id": "ea7a5484",
   "metadata": {},
   "outputs": [],
   "source": [
    "class OVBacktest:\n",
    "    def __init__(self,options,prices):\n",
    "        # Load dataframes\n",
    "        self.options = pd.read_csv(options)\n",
    "        self.prices = pd.read_csv(prices)\n",
    "        \n",
    "        #Constructing the required features\n",
    "        self.construct_features()\n",
    "        try:\n",
    "            #Get the batch number from the file name\n",
    "            self.batch = options.split(\"-\")[3].split(\".\")[0]\n",
    "            stk = options.split(\"-\")[0]\n",
    "            if \"PE\" in options:\n",
    "                self.result_name = stk+\"-options-CE-\"+self.batch+\".csv\"\n",
    "            else:\n",
    "                self.result_name = stk+\"-options-PE-\"+self.batch+\".csv\"\n",
    "        except:\n",
    "            pass\n",
    "        \n",
    "    def construct_features(self):\n",
    "        self.options[\"Delta\"] = pd.to_datetime(self.options[\"Expiry\"]) - pd.to_datetime(self.options[\"Date\"])\n",
    "        self.options[\"Delta\"] = self.options[\"Delta\"].dt.days.astype('int16')\n",
    "        self.options[\"OV\"] = ((self.prices[\"Close\"] - self.options[\"Strike Price\"]) / self.options[\"Close\"]) * self.options[\"Delta\"]\n",
    "        self.prices[\"Change\"] = ((self.prices[\"Close\"] - self.prices[\"Open\"]) / self.prices[\"Open\"])*100\n",
    "        # options[\"Alpha-Prev\"] = options.Alpha.shift(1)\n",
    "        self.options[\"OV-Change\"] = ((self.options[\"OV\"] - self.options.OV.shift(1)) / self.options[\"OV\"])*100\n",
    "        self.options[\"OV-Mean\"] = (self.options.OV.shift(1)+self.options.OV.shift(2)+self.options.OV.shift(3)) / 3\n",
    "        self.options[\"Change\"] = ((self.options[\"Close\"] - self.options[\"Open\"]) / self.options[\"Open\"])*100\n",
    "        self.options[\"Ratio\"] = self.options[\"OV\"] / self.options[\"OV-Mean\"]\n",
    "    \n",
    "    def return_opts(self):\n",
    "        return self.options\n",
    "    \n",
    "    "
   ]
  },
  {
   "cell_type": "code",
   "execution_count": 20,
   "id": "2eed8229",
   "metadata": {},
   "outputs": [],
   "source": [
    "stock = \"VEDL\"\n",
    "# options = [\"%s-options-PE-1.csv\"%(stock),\n",
    "#           \"%s-options-PE-2.csv\"%(stock),\n",
    "#           \"%s-options-PE-3.csv\"%(stock),\n",
    "#           \"%s-options-PE-4.csv\"%(stock),\n",
    "#           \"%s-options-PE-5.csv\"%(stock),\n",
    "#           \"%s-options-PE-6.csv\"%(stock),]\n",
    "\n",
    "options = []\n",
    "prices = []\n",
    "\n",
    "for i in range(12):\n",
    "    options.append(\"%s-options-PE-%s.csv\"%(stock,str(i+1)))\n",
    "    prices.append(\"%s-prices-%s.csv\"%(stock,str(i+1)))\n",
    "\n",
    "# prices = [\"%s-prices-1.csv\"%(stock),\n",
    "#           \"%s-prices-2.csv\"%(stock),\n",
    "#           \"%s-prices-3.csv\"%(stock),\n",
    "#           \"%s-prices-4.csv\"%(stock),\n",
    "#           \"%s-prices-5.csv\"%(stock),\n",
    "#           \"%s-prices-6.csv\"%(stock),]\n",
    "\n",
    "# for i in prices:\n",
    "#     df = pd.read_csv(i)\n",
    "#     df[\"Close\"] = df[\"Close Price\"]\n",
    "#     df[\"Open\"] = df[\"Open Price\"]\n",
    "#     df = df.drop([\"Close Price\",\"Open Price\"],axis=1)\n",
    "#     df.to_csv(i)"
   ]
  },
  {
   "cell_type": "code",
   "execution_count": 80,
   "id": "4d64048c",
   "metadata": {},
   "outputs": [],
   "source": [
    "options_df = []\n",
    "for index,i in enumerate(options):\n",
    "    df = OVBacktest(i,prices[index]).return_opts()\n",
    "    options_df.append(df)\n",
    "\n",
    "main = pd.concat(options_df)\n",
    "main.to_csv(\"tmp.csv\")\n",
    "    \n",
    "    "
   ]
  },
  {
   "cell_type": "code",
   "execution_count": 72,
   "id": "0e277271",
   "metadata": {},
   "outputs": [],
   "source": []
  },
  {
   "cell_type": "code",
   "execution_count": 73,
   "id": "32d6db2a",
   "metadata": {},
   "outputs": [],
   "source": [
    "# df"
   ]
  },
  {
   "cell_type": "code",
   "execution_count": 79,
   "id": "b4e24d62",
   "metadata": {},
   "outputs": [
    {
     "data": {
      "image/png": "[encoded data removed]",
      "text/plain": [
       "<Figure size 432x288 with 1 Axes>"
      ]
     },
     "metadata": {
      "needs_background": "light"
     },
     "output_type": "display_data"
    }
   ],
   "source": [
    "for i in range(12):\n",
    "    ov = OVBacktest(options[i],prices[i])\n",
    "    df = ov.return_opts()\n",
    "    for index,rows in df.iterrows():\n",
    "        if rows[\"Delta\"] < 3:\n",
    "            continue\n",
    "        if rows[\"Change\"] > 19:\n",
    "            scatter(index,rows[\"Ratio\"],color=\"green\")\n",
    "        if rows[\"Change\"] <= -10:\n",
    "            scatter(index,rows[\"Ratio\"],color=\"red\")\n",
    "#     sleep(5)"
   ]
  },
  {
   "cell_type": "code",
   "execution_count": null,
   "id": "42a98ff3",
   "metadata": {},
   "outputs": [],
   "source": [
    "\n"
   ]
  }
 ],
 "metadata": {
  "kernelspec": {
   "display_name": "Python 3 (ipykernel)",
   "language": "python",
   "name": "python3"
  },
  "language_info": {
   "codemirror_mode": {
    "name": "ipython",
    "version": 3
   },
   "file_extension": ".py",
   "mimetype": "text/x-python",
   "name": "python",
   "nbconvert_exporter": "python",
   "pygments_lexer": "ipython3",
   "version": "3.7.0"
  }
 },
 "nbformat": 4,
 "nbformat_minor": 5
}
