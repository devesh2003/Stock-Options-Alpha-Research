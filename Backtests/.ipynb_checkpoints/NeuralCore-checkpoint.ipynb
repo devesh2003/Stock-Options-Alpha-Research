{
 "cells": [
  {
   "cell_type": "code",
   "execution_count": 2,
   "id": "6a6aa866",
   "metadata": {},
   "outputs": [],
   "source": [
    "import pandas as pd\n",
    "import tensorflow as tf\n",
    "import numpy as np\n",
    "from sklearn.model_selection import train_test_split"
   ]
  },
  {
   "cell_type": "code",
   "execution_count": 4,
   "id": "e73e50d2",
   "metadata": {},
   "outputs": [],
   "source": [
    "class NeuralCore:\n",
    "    def __init__(self,x,y,features,test_size=0.3,model=1,hidden_units=[10,10,10],\n",
    "                n_classes=2):\n",
    "        self.hidden_units = hidden_units\n",
    "        self.n_classes = n_classes\n",
    "        \n",
    "        # Currently only works with pandas input functions and numeric columns\n",
    "        self.x = x\n",
    "        self.y = y\n",
    "        \n",
    "        #Split into training and testing sets\n",
    "        self.x_train, self.x_test, self.y_train, self.y_test = train_test_split(self.x,self.y,test_size=test_size)\n",
    "        \n",
    "        # Constructs a tesnorflow features list\n",
    "        self.feature_columns = []\n",
    "        for feature in features:\n",
    "            self.feature_columns.append(tf.feature_column.numeric_column(feature))\n",
    "        \n",
    "        self.set_model(model=model)\n",
    "    \n",
    "    def set_model(self,model):\n",
    "        # DNN Classifier\n",
    "        if model == 1:\n",
    "            self.model = tf.estimator.DNNClassifier(feature_columns=self.feature_columns,n_classes=self.n_classes,\n",
    "                                                   hidden_units=self.hidden_units)\n",
    "        # Linear Classifier\n",
    "        if model == 2:\n",
    "            self.model = tf.estimator.LinearClassifier(feature_columns=self.feature_columns,n_classes=self.n_classes)\n",
    "    \n",
    "    def train(self,batch_size=1,num_epochs=1000,shuffle=True,steps=1000):\n",
    "        self.shuffle = shuffle\n",
    "        self.num_epochs = num_epochs\n",
    "        self.steps = steps\n",
    "        self.batch_size = batch_size\n",
    "        \n",
    "        # Creates input function\n",
    "        train_input_fn = tf.estimator.inputs.pandas_input_fn(x=self.x_train,y=self.y_train,num_epochs=num_epochs,\n",
    "                                                            shuffle=shuffle,batch_size=batch_size)\n",
    "        self.model.train(input_fn=train_input_fn,steps=steps)\n",
    "    \n",
    "    def evaluate(self):\n",
    "        eval_input_fn = tf.estimator.inputs.pandas_input_fn(x=self.x_train,y=self.y_train,num_epochs=1,\n",
    "                                                            shuffle=False,batch_size=self.batch_size)\n",
    "        results = self.model.evaluate(eval_input_fn)\n",
    "        print(results)\n",
    "    \n",
    "    def predict(self,x_pred):\n",
    "        # x_pred should be a pandas dataframe with same feature keys\n",
    "        pred_input_fn = tf.estimator.inputs.pandas_input_fn(x=x_pred,num_epochs=1,\n",
    "                                                            shuffle=False,batch_size=self.batch_size)\n",
    "        preds = self.model.predict(pred_input_fn)\n",
    "        return list(preds)"
   ]
  },
  {
   "cell_type": "code",
   "execution_count": null,
   "id": "3ca8777c",
   "metadata": {},
   "outputs": [],
   "source": []
  }
 ],
 "metadata": {
  "kernelspec": {
   "display_name": "Python 3 (ipykernel)",
   "language": "python",
   "name": "python3"
  },
  "language_info": {
   "codemirror_mode": {
    "name": "ipython",
    "version": 3
   },
   "file_extension": ".py",
   "mimetype": "text/x-python",
   "name": "python",
   "nbconvert_exporter": "python",
   "pygments_lexer": "ipython3",
   "version": "3.7.0"
  }
 },
 "nbformat": 4,
 "nbformat_minor": 5
}
