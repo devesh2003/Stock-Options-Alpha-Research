{
 "cells": [
  {
   "cell_type": "code",
   "execution_count": 1,
   "id": "d14ab95b",
   "metadata": {},
   "outputs": [],
   "source": [
    "import pandas as pd\n",
    "import numpy as np"
   ]
  },
  {
   "cell_type": "code",
   "execution_count": 9,
   "id": "60eca398",
   "metadata": {},
   "outputs": [],
   "source": [
    "class ExcelFormatter:\n",
    "    def __init__(self,excel_file):\n",
    "        self.file = excel_file\n",
    "        df = pd.read_excel(excel_file,sheet_name=None,engine=\"openpyxl\")\n",
    "        self.sheets = df.keys()\n",
    "        self.writer = pd.ExcelWriter(excel_file,engine=\"xlsxwriter\")\n",
    "        \n",
    "        #Populates writer with sheet data\n",
    "        self.load_writer()\n",
    "        \n",
    "        self.workbook = self.writer.book\n",
    "        \n",
    "        self.init_formats()\n",
    "        \n",
    "        #Center align all text\n",
    "        for sheet in df.keys():\n",
    "            #Center align everything\n",
    "            worksheet = self.writer.sheets[sheet]\n",
    "            worksheet.set_column(\"A:Z\",5,self.formats[\"align-center\"])\n",
    "            \n",
    "            #Freeze top row\n",
    "            worksheet.freeze_panes(1,0)\n",
    "            \n",
    "            #Autofit column width\n",
    "            tmp_df = pd.read_excel(excel_file,sheet_name=sheet,engine=\"openpyxl\")\n",
    "            for column in tmp_df:\n",
    "                column_length = max(tmp_df[column].astype(str).map(len).max(), len(column))\n",
    "                col_idx = tmp_df.columns.get_loc(column)\n",
    "                self.writer.sheets[sheet].set_column(col_idx, col_idx, column_length)\n",
    "            \n",
    "    def highlight_pnl(self,column,sheet):\n",
    "        formatting = {\n",
    "            \"type\":\"cell\",\n",
    "            \"criteria\":\"greater than\",\n",
    "            \"value\": 19.5,\n",
    "            \"format\":self.formats[\"green_bg\"]\n",
    "        }\n",
    "        \n",
    "        worksheet = self.writer.sheets[sheet]\n",
    "        worksheet.conditional_format(column,formatting)\n",
    "        \n",
    "        formatting = {\n",
    "            \"type\":\"cell\",\n",
    "            \"criteria\":\"less than\",\n",
    "            \"value\": -10,\n",
    "            \"format\":self.formats[\"red_bg\"]\n",
    "        }\n",
    "        \n",
    "        worksheet.conditional_format(column,formatting)\n",
    "    \n",
    "    def init_formats(self):\n",
    "        self.formats = {}\n",
    "        self.formats[\"red_bg\"] = self.workbook.add_format({'bg_color':   '#FFC7CE',\n",
    "                               'font_color': '#9C0006'})\n",
    "        \n",
    "        format_align = self.workbook.add_format()\n",
    "        format_align.set_align('center')\n",
    "        format_align.set_align('vcenter')\n",
    "        self.formats[\"align-center\"] = format_align\n",
    "        \n",
    "        self.formats[\"green_bg\"] = self.workbook.add_format({'bg_color':   '#C6EFCE',\n",
    "                               'font_color': '#006100'})\n",
    "        \n",
    "    def load_writer(self):\n",
    "        for sheet in self.sheets:\n",
    "            df = pd.read_excel(self.file,sheet_name=sheet,engine=\"openpyxl\")\n",
    "            df.replace(np.inf,0,inplace=True)\n",
    "            df.fillna(0,inplace=True)\n",
    "#             df = df.loc[~(df==0).all(axis=1)]\n",
    "#             df = df[df[\"Ratio\"] != 0]\n",
    "            df.to_excel(self.writer,sheet_name=sheet)\n",
    "            \n",
    "    \n",
    "    def save(self):\n",
    "        self.writer.save()\n",
    "        \n",
    "        "
   ]
  },
  {
   "cell_type": "code",
   "execution_count": 13,
   "id": "689573bd",
   "metadata": {},
   "outputs": [],
   "source": [
    "# fmt = ExcelFormatter(\"tmp-new.xlsx\")"
   ]
  },
  {
   "cell_type": "code",
   "execution_count": 14,
   "id": "c7e4d277",
   "metadata": {},
   "outputs": [],
   "source": [
    "# fmt.highlight_pnl(\"AB1:AB255\",\"data\")"
   ]
  },
  {
   "cell_type": "code",
   "execution_count": 15,
   "id": "f63d8c3a",
   "metadata": {},
   "outputs": [],
   "source": [
    "# fmt.save()"
   ]
  },
  {
   "cell_type": "code",
   "execution_count": null,
   "id": "90b8eda0",
   "metadata": {},
   "outputs": [],
   "source": []
  }
 ],
 "metadata": {
  "kernelspec": {
   "display_name": "Python 3 (ipykernel)",
   "language": "python",
   "name": "python3"
  },
  "language_info": {
   "codemirror_mode": {
    "name": "ipython",
    "version": 3
   },
   "file_extension": ".py",
   "mimetype": "text/x-python",
   "name": "python",
   "nbconvert_exporter": "python",
   "pygments_lexer": "ipython3",
   "version": "3.7.0"
  }
 },
 "nbformat": 4,
 "nbformat_minor": 5
}
