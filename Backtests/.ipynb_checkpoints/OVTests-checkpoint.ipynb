{
 "cells": [
  {
   "cell_type": "code",
   "execution_count": 3,
   "id": "7edaceec",
   "metadata": {},
   "outputs": [],
   "source": [
    "import pandas as pd\n",
    "from matplotlib.pyplot import *\n",
    "from statistics import mean\n",
    "from AlphaTests import *"
   ]
  },
  {
   "cell_type": "code",
   "execution_count": 6,
   "id": "ea7a5484",
   "metadata": {},
   "outputs": [],
   "source": [
    "class OVBacktest:\n",
    "    def __init__(self,options,prices):\n",
    "        # Load dataframes\n",
    "        self.options = pd.read_csv(options)\n",
    "        self.prices = pd.read_csv(prices)\n",
    "        \n",
    "        #Constructing the required features\n",
    "        self.construct_features()\n",
    "        try:\n",
    "            #Get the batch number from the file name\n",
    "            self.batch = options.split(\"-\")[3].split(\".\")[0]\n",
    "            stk = options.split(\"-\")[0]\n",
    "            if \"PE\" in options:\n",
    "                self.result_name = stk+\"-options-CE-\"+self.batch+\".csv\"\n",
    "            else:\n",
    "                self.result_name = stk+\"-options-PE-\"+self.batch+\".csv\"\n",
    "        except:\n",
    "            pass\n",
    "        \n",
    "    def contruct_features(self):\n",
    "        self.options[\"Delta\"] = pd.to_datetime(self.options[\"Expiry\"]) - pd.to_datetime(self.options[\"Date\"])\n",
    "        self.options[\"Delta\"] = self.options[\"Delta\"].dt.days.astype('int16')\n",
    "        self.options[\"OV\"] = ((self.prices[\"Close\"] - self.options[\"Strike Price\"]) / self.options[\"Close\"]) * self.options[\"Delta\"]\n",
    "        self.prices[\"Change\"] = ((self.prices[\"Close\"] - self.prices[\"Open\"]) / self.prices[\"Open\"])*100\n",
    "        # options[\"Alpha-Prev\"] = options.Alpha.shift(1)\n",
    "        self.options[\"OV-Change\"] = ((self.options[\"OV\"] - self.options.OV.shift(1)) / self.options[\"OV\"])*100\n",
    "        self.options[\"OV-Mean\"] = (self.options.OV.shift(1)+self.options.OV.shift(2)+self.options.OV.shift(3)) / 3\n",
    "        self.options[\"Change\"] = ((self.options[\"Close\"] - self.options[\"Open\"]) / self.options[\"Open\"])*100\n",
    "    \n",
    "    "
   ]
  },
  {
   "cell_type": "code",
   "execution_count": null,
   "id": "2eed8229",
   "metadata": {},
   "outputs": [],
   "source": []
  }
 ],
 "metadata": {
  "kernelspec": {
   "display_name": "Python 3 (ipykernel)",
   "language": "python",
   "name": "python3"
  },
  "language_info": {
   "codemirror_mode": {
    "name": "ipython",
    "version": 3
   },
   "file_extension": ".py",
   "mimetype": "text/x-python",
   "name": "python",
   "nbconvert_exporter": "python",
   "pygments_lexer": "ipython3",
   "version": "3.7.0"
  }
 },
 "nbformat": 4,
 "nbformat_minor": 5
}
