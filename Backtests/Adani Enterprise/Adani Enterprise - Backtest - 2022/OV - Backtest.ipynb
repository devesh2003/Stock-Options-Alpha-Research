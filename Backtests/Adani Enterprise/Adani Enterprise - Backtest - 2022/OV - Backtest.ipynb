{
 "cells": [
  {
   "cell_type": "code",
   "execution_count": 1,
   "id": "723f006a",
   "metadata": {},
   "outputs": [],
   "source": [
    "import pandas as pd\n",
    "from matplotlib.pyplot import *\n",
    "import sys\n",
    "sys.path.insert(1,\"../../\")\n",
    "from OVTests import *"
   ]
  },
  {
   "cell_type": "code",
   "execution_count": 30,
   "id": "b16f21f9",
   "metadata": {},
   "outputs": [],
   "source": [
    "stock = \"ADANIENT\"\n",
    "options = []\n",
    "prices = []\n",
    "\n",
    "for i in range(6):\n",
    "    options.append(\"%s-options-PE-%s.csv\"%(stock,str(i+1)))\n",
    "    prices.append(\"%s-prices-%s.csv\"%(stock,str(i+1)))"
   ]
  },
  {
   "cell_type": "code",
   "execution_count": 26,
   "id": "581d6209",
   "metadata": {},
   "outputs": [],
   "source": [
    "for i in prices:\n",
    "    df = pd.read_csv(i)\n",
    "    df[\"Close\"] = df[\"Close Price\"]\n",
    "    df[\"Open\"] = df[\"Open Price\"]\n",
    "    df.to_csv(i)"
   ]
  },
  {
   "cell_type": "code",
   "execution_count": 17,
   "id": "66d8dd3a",
   "metadata": {},
   "outputs": [
    {
     "data": {
      "text/html": [
       "<div>\n",
       "<style scoped>\n",
       "    .dataframe tbody tr th:only-of-type {\n",
       "        vertical-align: middle;\n",
       "    }\n",
       "\n",
       "    .dataframe tbody tr th {\n",
       "        vertical-align: top;\n",
       "    }\n",
       "\n",
       "    .dataframe thead th {\n",
       "        text-align: right;\n",
       "    }\n",
       "</style>\n",
       "<table border=\"1\" class=\"dataframe\">\n",
       "  <thead>\n",
       "    <tr style=\"text-align: right;\">\n",
       "      <th></th>\n",
       "      <th>Symbol</th>\n",
       "      <th>Date</th>\n",
       "      <th>Expiry</th>\n",
       "      <th>Option Type</th>\n",
       "      <th>Strike Price</th>\n",
       "      <th>Open</th>\n",
       "      <th>High</th>\n",
       "      <th>Low</th>\n",
       "      <th>Close</th>\n",
       "      <th>LTP</th>\n",
       "      <th>...</th>\n",
       "      <th>Premium Turnover in Lacs</th>\n",
       "      <th>Open Int</th>\n",
       "      <th>Change in OI</th>\n",
       "      <th>Underlying Value</th>\n",
       "      <th>Delta</th>\n",
       "      <th>OV</th>\n",
       "      <th>OV-Change</th>\n",
       "      <th>OV-Mean</th>\n",
       "      <th>Change</th>\n",
       "      <th>Ratio</th>\n",
       "    </tr>\n",
       "  </thead>\n",
       "  <tbody>\n",
       "    <tr>\n",
       "      <th>0</th>\n",
       "      <td>ADANIENT</td>\n",
       "      <td>01-Jul-2022</td>\n",
       "      <td>28-Jul-2022</td>\n",
       "      <td>PE</td>\n",
       "      <td>2200</td>\n",
       "      <td>105.05</td>\n",
       "      <td>134.70</td>\n",
       "      <td>79.60</td>\n",
       "      <td>84.10</td>\n",
       "      <td>81.25</td>\n",
       "      <td>...</td>\n",
       "      <td>991.37</td>\n",
       "      <td>319000</td>\n",
       "      <td>102000</td>\n",
       "      <td>-</td>\n",
       "      <td>27</td>\n",
       "      <td>10.337693</td>\n",
       "      <td>0.000000</td>\n",
       "      <td>0.000000</td>\n",
       "      <td>-19.942884</td>\n",
       "      <td>0.000000</td>\n",
       "    </tr>\n",
       "    <tr>\n",
       "      <th>1</th>\n",
       "      <td>ADANIENT</td>\n",
       "      <td>04-Jul-2022</td>\n",
       "      <td>28-Jul-2022</td>\n",
       "      <td>PE</td>\n",
       "      <td>2200</td>\n",
       "      <td>80.00</td>\n",
       "      <td>82.85</td>\n",
       "      <td>64.10</td>\n",
       "      <td>65.95</td>\n",
       "      <td>65.10</td>\n",
       "      <td>...</td>\n",
       "      <td>552.02</td>\n",
       "      <td>409500</td>\n",
       "      <td>90500</td>\n",
       "      <td>-</td>\n",
       "      <td>24</td>\n",
       "      <td>22.507961</td>\n",
       "      <td>54.070947</td>\n",
       "      <td>0.000000</td>\n",
       "      <td>-17.562500</td>\n",
       "      <td>0.000000</td>\n",
       "    </tr>\n",
       "    <tr>\n",
       "      <th>2</th>\n",
       "      <td>ADANIENT</td>\n",
       "      <td>05-Jul-2022</td>\n",
       "      <td>28-Jul-2022</td>\n",
       "      <td>PE</td>\n",
       "      <td>2200</td>\n",
       "      <td>60.20</td>\n",
       "      <td>74.00</td>\n",
       "      <td>57.95</td>\n",
       "      <td>70.10</td>\n",
       "      <td>71.45</td>\n",
       "      <td>...</td>\n",
       "      <td>543.63</td>\n",
       "      <td>424500</td>\n",
       "      <td>15000</td>\n",
       "      <td>-</td>\n",
       "      <td>23</td>\n",
       "      <td>15.240371</td>\n",
       "      <td>-47.686436</td>\n",
       "      <td>0.000000</td>\n",
       "      <td>16.445183</td>\n",
       "      <td>0.000000</td>\n",
       "    </tr>\n",
       "    <tr>\n",
       "      <th>3</th>\n",
       "      <td>ADANIENT</td>\n",
       "      <td>06-Jul-2022</td>\n",
       "      <td>28-Jul-2022</td>\n",
       "      <td>PE</td>\n",
       "      <td>2200</td>\n",
       "      <td>67.30</td>\n",
       "      <td>69.40</td>\n",
       "      <td>54.55</td>\n",
       "      <td>56.15</td>\n",
       "      <td>55.95</td>\n",
       "      <td>...</td>\n",
       "      <td>348.69</td>\n",
       "      <td>415500</td>\n",
       "      <td>-9000</td>\n",
       "      <td>2272.85</td>\n",
       "      <td>22</td>\n",
       "      <td>28.543188</td>\n",
       "      <td>46.605926</td>\n",
       "      <td>16.028675</td>\n",
       "      <td>-16.567608</td>\n",
       "      <td>1.780758</td>\n",
       "    </tr>\n",
       "  </tbody>\n",
       "</table>\n",
       "<p>4 rows × 23 columns</p>\n",
       "</div>"
      ],
      "text/plain": [
       "     Symbol         Date       Expiry Option Type  Strike Price    Open  \\\n",
       "0  ADANIENT  01-Jul-2022  28-Jul-2022          PE          2200  105.05   \n",
       "1  ADANIENT  04-Jul-2022  28-Jul-2022          PE          2200   80.00   \n",
       "2  ADANIENT  05-Jul-2022  28-Jul-2022          PE          2200   60.20   \n",
       "3  ADANIENT  06-Jul-2022  28-Jul-2022          PE          2200   67.30   \n",
       "\n",
       "     High    Low  Close    LTP  ...  Premium Turnover in Lacs  Open Int  \\\n",
       "0  134.70  79.60  84.10  81.25  ...                    991.37    319000   \n",
       "1   82.85  64.10  65.95  65.10  ...                    552.02    409500   \n",
       "2   74.00  57.95  70.10  71.45  ...                    543.63    424500   \n",
       "3   69.40  54.55  56.15  55.95  ...                    348.69    415500   \n",
       "\n",
       "   Change in OI  Underlying Value  Delta         OV  OV-Change    OV-Mean  \\\n",
       "0        102000                 -     27  10.337693   0.000000   0.000000   \n",
       "1         90500                 -     24  22.507961  54.070947   0.000000   \n",
       "2         15000                 -     23  15.240371 -47.686436   0.000000   \n",
       "3         -9000           2272.85     22  28.543188  46.605926  16.028675   \n",
       "\n",
       "      Change     Ratio  \n",
       "0 -19.942884  0.000000  \n",
       "1 -17.562500  0.000000  \n",
       "2  16.445183  0.000000  \n",
       "3 -16.567608  1.780758  \n",
       "\n",
       "[4 rows x 23 columns]"
      ]
     },
     "execution_count": 17,
     "metadata": {},
     "output_type": "execute_result"
    }
   ],
   "source": [
    "ov = OVBacktest(options[-1],prices[-1])\n",
    "df = ov.options\n",
    "df.head()"
   ]
  },
  {
   "cell_type": "code",
   "execution_count": 31,
   "id": "fe39c635",
   "metadata": {},
   "outputs": [],
   "source": [
    "loader = Loader(options,prices,strategy=2)"
   ]
  },
  {
   "cell_type": "code",
   "execution_count": 33,
   "id": "fee12e39",
   "metadata": {
    "scrolled": true
   },
   "outputs": [
    {
     "name": "stdout",
     "output_type": "stream",
     "text": [
      "Returns: 162.60391816670284\n",
      "Returns: 213.91167408142846\n",
      "Returns: 87.00069612722777\n",
      "Returns: 0\n",
      "Returns: 0\n",
      "Returns: 50.03977439932164\n"
     ]
    },
    {
     "data": {
      "text/plain": [
       "513.5560627746808"
      ]
     },
     "execution_count": 33,
     "metadata": {},
     "output_type": "execute_result"
    }
   ],
   "source": [
    "loader.find_net_returns(0.3,verbose=True)"
   ]
  },
  {
   "cell_type": "code",
   "execution_count": 34,
   "id": "0211f1ed",
   "metadata": {},
   "outputs": [],
   "source": [
    "loader.generate_results(0.3)"
   ]
  },
  {
   "cell_type": "code",
   "execution_count": 29,
   "id": "ddcaeb6f",
   "metadata": {},
   "outputs": [
    {
     "name": "stdout",
     "output_type": "stream",
     "text": [
      "Max Returns: -286.85143645054626\n",
      "Optimal Threshold: 0.02\n",
      "Time Taken: 5.828404903411865 seconds\n"
     ]
    },
    {
     "data": {
      "text/plain": [
       "0.02"
      ]
     },
     "execution_count": 29,
     "metadata": {},
     "output_type": "execute_result"
    }
   ],
   "source": [
    "loader.find_optimal_threshold(verbose=True)"
   ]
  },
  {
   "cell_type": "code",
   "execution_count": null,
   "id": "d4414f5a",
   "metadata": {},
   "outputs": [],
   "source": []
  },
  {
   "cell_type": "code",
   "execution_count": null,
   "id": "891be1ad",
   "metadata": {},
   "outputs": [],
   "source": []
  }
 ],
 "metadata": {
  "kernelspec": {
   "display_name": "Python 3 (ipykernel)",
   "language": "python",
   "name": "python3"
  },
  "language_info": {
   "codemirror_mode": {
    "name": "ipython",
    "version": 3
   },
   "file_extension": ".py",
   "mimetype": "text/x-python",
   "name": "python",
   "nbconvert_exporter": "python",
   "pygments_lexer": "ipython3",
   "version": "3.7.0"
  }
 },
 "nbformat": 4,
 "nbformat_minor": 5
}
