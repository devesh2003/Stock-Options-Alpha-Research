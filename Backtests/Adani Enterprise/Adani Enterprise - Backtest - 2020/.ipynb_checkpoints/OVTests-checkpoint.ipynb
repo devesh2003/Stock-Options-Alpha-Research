{
 "cells": [
  {
   "cell_type": "code",
   "execution_count": 1,
   "id": "7edaceec",
   "metadata": {},
   "outputs": [],
   "source": [
    "import pandas as pd\n",
    "from matplotlib.pyplot import *\n",
    "from statistics import mean\n",
    "import time"
   ]
  },
  {
   "cell_type": "code",
   "execution_count": 2,
   "id": "ea7a5484",
   "metadata": {},
   "outputs": [],
   "source": [
    "class OVBacktest:\n",
    "    def __init__(self,options,prices):\n",
    "        # Load dataframes\n",
    "        self.options = pd.read_csv(options)\n",
    "        self.prices = pd.read_csv(prices)\n",
    "        \n",
    "        # Keep record of all trades\n",
    "        self.trades = \"Date,Expiry,Strike,Returns,OV,OV-Mean,Ratio\\n\"\n",
    "        \n",
    "        #Constructing the required features\n",
    "        self.construct_features()\n",
    "        try:\n",
    "            #Get the batch number from the file name\n",
    "            self.batch = options.split(\"-\")[3].split(\".\")[0]\n",
    "            stk = options.split(\"-\")[0]\n",
    "            if \"PE\" in options:\n",
    "                self.result_name = stk+\"-options-CE-\"+self.batch+\".csv\"\n",
    "            else:\n",
    "                self.result_name = stk+\"-options-PE-\"+self.batch+\".csv\"\n",
    "            \n",
    "            self.df = pd.read_csv(self.result_name)\n",
    "        except:\n",
    "            pass\n",
    "        \n",
    "    def construct_features(self):\n",
    "        self.options[\"Delta\"] = pd.to_datetime(self.options[\"Expiry\"]) - pd.to_datetime(self.options[\"Date\"])\n",
    "        self.options[\"Delta\"] = self.options[\"Delta\"].dt.days.astype('int16')\n",
    "        self.options[\"OV\"] = ((self.prices[\"Close\"] - self.options[\"Strike Price\"]) / self.options[\"Close\"]) * self.options[\"Delta\"]\n",
    "        self.prices[\"Change\"] = ((self.prices[\"Close\"] - self.prices[\"Open\"]) / self.prices[\"Open\"])*100\n",
    "        # options[\"Alpha-Prev\"] = options.Alpha.shift(1)\n",
    "        self.options[\"OV-Change\"] = ((self.options[\"OV\"] - self.options.OV.shift(1)) / self.options[\"OV\"])*100\n",
    "        self.options[\"OV-Mean\"] = (self.options.OV.shift(1)+self.options.OV.shift(2)+self.options.OV.shift(3)) / 3\n",
    "        self.options[\"Change\"] = ((self.options[\"Close\"] - self.options[\"Open\"]) / self.options[\"Open\"])*100\n",
    "        self.options[\"Ratio\"] = self.options[\"OV\"] / self.options[\"OV-Mean\"]\n",
    "        self.options.fillna(0,inplace=True)\n",
    "        \n",
    "    def contruct_csv_data(self,data_list):\n",
    "        return \",\".join(data_list)+\"\\n\"\n",
    "        \n",
    "    # Integrate new risk management strategies by chanding here\n",
    "    def get_results(self,index):\n",
    "        \n",
    "        # Return change on the next day, buying the options the next day\n",
    "        # and holding it for the entire day\n",
    "        # return self.options[\"Change\"][index+1]\n",
    "        \n",
    "        # Returns from buying the opposite option\n",
    "        # df = pd.read_csv(self.result_name) [Execution time: 40s]\n",
    "        df = self.df # [Execution time: 10s]\n",
    "        if df[\"Open\"][index+1] == 0:\n",
    "            return 0\n",
    "        df[\"Change\"] = ((df[\"Close\"] - df[\"Open\"]) / df[\"Open\"]) * 100\n",
    "        return df[\"Change\"][index+1]\n",
    "    \n",
    "    def find_net_returns(self,thresh,verbose=False,upper_threshold=-99):\n",
    "        \n",
    "        # Keep record of all trades for each run\n",
    "        self.trades = []\n",
    "        total_returns = 0\n",
    "        for index,rows in self.options.iterrows():\n",
    "            ratio = rows[\"Ratio\"]\n",
    "\n",
    "            # Ignore options before 3 days of expiry or ratio is not valid\n",
    "            if rows[\"Delta\"] < 3 or ratio == 0:\n",
    "                continue\n",
    "\n",
    "            # Take all trades below the threshold and above upper_threshold\n",
    "            if ratio <= thresh and ratio > upper_threshold:\n",
    "                results = self.get_results(index)\n",
    "\n",
    "                # Create a list with all necessary data field\n",
    "                data = []\n",
    "                data.append(str(rows[\"Date\"]))\n",
    "                data.append(str(rows[\"Expiry\"]))\n",
    "                data.append(str(rows[\"Strike Price\"]))\n",
    "                data.append(str(results))\n",
    "                data.append(str(rows[\"OV\"]))\n",
    "                data.append(str(rows[\"OV-Mean\"]))\n",
    "                data.append(str(rows[\"Ratio\"]))\n",
    "\n",
    "                # Add it to trades\n",
    "                self.trades += self.contruct_csv_data(data)\n",
    "                \n",
    "                # Add to overall returns\n",
    "                total_returns += results\n",
    "        if verbose:\n",
    "            print(\"Returns: \" + str(total_returns))\n",
    "        return total_returns\n",
    "        \n",
    "    def find_optimal_threshold(self,upper_threshold=-99,toPrint=False):\n",
    "        max_thresh = 3\n",
    "        thresh = 0.1\n",
    "        MAX_RETURNS = -9999\n",
    "        OPT_THRESH = 0\n",
    "        \n",
    "        # Looping over all thresholds to find maximum profits\n",
    "        while(thresh <= max_thresh):\n",
    "            thresh += 0.01\n",
    "            returns = self.find_net_returns(thresh,upper_threshold=upper_threshold)\n",
    "            \n",
    "            # Check is the returns for the current threshold are better than before\n",
    "            # Update if true\n",
    "            if returns > MAX_RETURNS:\n",
    "                MAX_RETURNS = returns\n",
    "                OPT_THRESH = thresh\n",
    "            \n",
    "        # Print results if needed\n",
    "        if toPrint:\n",
    "            print(\"Maximum Returns: \" + str(MAX_RETURNS))\n",
    "            print(\"Optimal Threshold: \" + str(OPT_THRESH))\n",
    "        \n",
    "                    \n",
    "            \n",
    "    \n",
    "    "
   ]
  },
  {
   "cell_type": "code",
   "execution_count": 3,
   "id": "9842e09e",
   "metadata": {},
   "outputs": [],
   "source": [
    "class Loader:\n",
    "    def __init__(self,options,prices):\n",
    "        # List of all options and prices files mapped to each other\n",
    "        self.options = options\n",
    "        \n",
    "        # Create complimentary option pairs\n",
    "        self.options_2 = []\n",
    "        if \"PE\" in options[0]:\n",
    "            for x in options:\n",
    "                self.options_2.append(x.replace(\"PE\",\"CE\"))\n",
    "        elif \"CE\" in options[0]:\n",
    "             for x in options:\n",
    "                self.options_2.append(x.replace(\"CE\",\"PE\"))\n",
    "        \n",
    "        self.prices = prices\n",
    "        self.backtests = []\n",
    "        for i in range(0,len(options)):\n",
    "            self.backtests.append(OVBacktest(options[i],prices[i]))\n",
    "    \n",
    "    def find_net_returns(self,thresh,upper_threshold=-99,verbose=False):\n",
    "        # Loop over all OV models\n",
    "        total_result = 0\n",
    "        for ov in self.backtests:\n",
    "            result = ov.find_net_returns(thresh,upper_threshold=upper_threshold,verbose=verbose)\n",
    "            total_result += result\n",
    "        return total_result\n",
    "    \n",
    "    def find_optimal_threshold(self,upper_threshold=-99,verbose=False):\n",
    "        start_time = time.time()\n",
    "        OPT_THRESH = 0\n",
    "        MAX_RETURNS = -999\n",
    "        \n",
    "        max_thresh = 2\n",
    "        thresh = 0.01\n",
    "        \n",
    "        while(thresh <= max_thresh):\n",
    "            thresh += 0.01\n",
    "            result = self.find_net_returns(thresh,upper_threshold=upper_threshold)\n",
    "            \n",
    "            if result > MAX_RETURNS:\n",
    "                MAX_RETURNS = result\n",
    "                OPT_THRESH = thresh\n",
    "        \n",
    "        if verbose:\n",
    "            print(\"Max Returns: \" + str(MAX_RETURNS))\n",
    "            print(\"Optimal Threshold: \" + str(OPT_THRESH))\n",
    "            print(\"Time Taken: \" + str(time.time() - start_time) + \" seconds\")\n",
    "        \n",
    "        return OPT_THRESH\n",
    "        "
   ]
  },
  {
   "cell_type": "code",
   "execution_count": 4,
   "id": "2eed8229",
   "metadata": {
    "scrolled": false
   },
   "outputs": [],
   "source": [
    "# for i in range(1,12):\n",
    "#     i += 1\n",
    "#     a = OVBacktest(\"ASIANPAINT-options-PE-%d.csv\"%(i),\"ASIANPAINT-prices-%d.csv\"%(i))\n",
    "# #     a.find_optimal_threshold(toPrint=True)\n",
    "#     a.find_net_returns(1,verbose=True)"
   ]
  },
  {
   "cell_type": "code",
   "execution_count": 5,
   "id": "5af05df0",
   "metadata": {
    "scrolled": true
   },
   "outputs": [],
   "source": [
    "# a = OVBacktest(\"ASIANPAINT-options-PE-6.csv\",\"ASIANPAINT-prices-6.csv\")"
   ]
  },
  {
   "cell_type": "code",
   "execution_count": 6,
   "id": "c0289fec",
   "metadata": {},
   "outputs": [],
   "source": [
    "# a.find_net_returns(0.49)"
   ]
  },
  {
   "cell_type": "code",
   "execution_count": 7,
   "id": "92d48179",
   "metadata": {},
   "outputs": [],
   "source": [
    "stock = \"ADANIENT\"\n",
    "options = []\n",
    "prices = []\n",
    "\n",
    "for i in range(12):\n",
    "    options.append(\"%s-options-PE-%s.csv\"%(stock,str(i+1)))\n",
    "    prices.append(\"%s-prices-%s.csv\"%(stock,str(i+1)))"
   ]
  },
  {
   "cell_type": "code",
   "execution_count": 8,
   "id": "24dcd7fa",
   "metadata": {},
   "outputs": [],
   "source": [
    "loader = Loader(options,prices)"
   ]
  },
  {
   "cell_type": "code",
   "execution_count": 11,
   "id": "f5b1fe2a",
   "metadata": {},
   "outputs": [
    {
     "data": {
      "text/plain": [
       "-25.972906488732406"
      ]
     },
     "execution_count": 11,
     "metadata": {},
     "output_type": "execute_result"
    }
   ],
   "source": [
    "loader.find_net_returns(1)"
   ]
  },
  {
   "cell_type": "code",
   "execution_count": 10,
   "id": "a94680f1",
   "metadata": {
    "scrolled": true
   },
   "outputs": [
    {
     "name": "stdout",
     "output_type": "stream",
     "text": [
      "Max Returns: 137.7149190432466\n",
      "Optimal Threshold: 0.24000000000000007\n",
      "Time Taken: 8.44440770149231 seconds\n"
     ]
    },
    {
     "data": {
      "text/plain": [
       "0.24000000000000007"
      ]
     },
     "execution_count": 10,
     "metadata": {},
     "output_type": "execute_result"
    }
   ],
   "source": [
    "loader.find_optimal_threshold(verbose=True)"
   ]
  },
  {
   "cell_type": "code",
   "execution_count": null,
   "id": "31a4d72f",
   "metadata": {},
   "outputs": [],
   "source": []
  }
 ],
 "metadata": {
  "kernelspec": {
   "display_name": "Python 3 (ipykernel)",
   "language": "python",
   "name": "python3"
  },
  "language_info": {
   "codemirror_mode": {
    "name": "ipython",
    "version": 3
   },
   "file_extension": ".py",
   "mimetype": "text/x-python",
   "name": "python",
   "nbconvert_exporter": "python",
   "pygments_lexer": "ipython3",
   "version": "3.7.0"
  }
 },
 "nbformat": 4,
 "nbformat_minor": 5
}
