{
 "cells": [
  {
   "cell_type": "code",
   "execution_count": 1,
   "id": "723f006a",
   "metadata": {},
   "outputs": [],
   "source": [
    "import pandas as pd\n",
    "from matplotlib.pyplot import *\n",
    "import sys\n",
    "sys.path.insert(1,\"../../\")\n",
    "from OVTests import *"
   ]
  },
  {
   "cell_type": "code",
   "execution_count": 11,
   "id": "b16f21f9",
   "metadata": {},
   "outputs": [],
   "source": [
    "stock = \"ADANIENT\"\n",
    "options = []\n",
    "prices = []\n",
    "\n",
    "for i in range(12):\n",
    "    options.append(\"%s-options-PE-%s.csv\"%(stock,str(i+1)))\n",
    "    prices.append(\"%s-prices-%s.csv\"%(stock,str(i+1)))"
   ]
  },
  {
   "cell_type": "code",
   "execution_count": 12,
   "id": "581d6209",
   "metadata": {},
   "outputs": [],
   "source": [
    "for i in prices:\n",
    "    df = pd.read_csv(i)\n",
    "    df[\"Close\"] = df[\"Close Price\"]\n",
    "    df[\"Open\"] = df[\"Open Price\"]\n",
    "    df.to_csv(i)"
   ]
  },
  {
   "cell_type": "code",
   "execution_count": 13,
   "id": "fe39c635",
   "metadata": {},
   "outputs": [],
   "source": [
    "loader = Loader(options,prices,strategy=2)"
   ]
  },
  {
   "cell_type": "code",
   "execution_count": 22,
   "id": "fee12e39",
   "metadata": {
    "scrolled": true
   },
   "outputs": [
    {
     "data": {
      "text/plain": [
       "131.8325661020701"
      ]
     },
     "execution_count": 22,
     "metadata": {},
     "output_type": "execute_result"
    }
   ],
   "source": [
    "loader.find_net_returns(0.3)"
   ]
  },
  {
   "cell_type": "code",
   "execution_count": 6,
   "id": "0211f1ed",
   "metadata": {},
   "outputs": [],
   "source": [
    "loader.generate_results(1)"
   ]
  },
  {
   "cell_type": "code",
   "execution_count": 15,
   "id": "ddcaeb6f",
   "metadata": {},
   "outputs": [
    {
     "name": "stdout",
     "output_type": "stream",
     "text": [
      "Max Returns: 137.7149190432466\n",
      "Optimal Threshold: 0.24000000000000007\n",
      "Time Taken: 7.819079399108887 seconds\n"
     ]
    },
    {
     "data": {
      "text/plain": [
       "0.24000000000000007"
      ]
     },
     "execution_count": 15,
     "metadata": {},
     "output_type": "execute_result"
    }
   ],
   "source": [
    "loader.find_optimal_threshold(verbose=True)"
   ]
  },
  {
   "cell_type": "code",
   "execution_count": null,
   "id": "d4414f5a",
   "metadata": {},
   "outputs": [],
   "source": []
  },
  {
   "cell_type": "code",
   "execution_count": null,
   "id": "891be1ad",
   "metadata": {},
   "outputs": [],
   "source": []
  }
 ],
 "metadata": {
  "kernelspec": {
   "display_name": "Python 3 (ipykernel)",
   "language": "python",
   "name": "python3"
  },
  "language_info": {
   "codemirror_mode": {
    "name": "ipython",
    "version": 3
   },
   "file_extension": ".py",
   "mimetype": "text/x-python",
   "name": "python",
   "nbconvert_exporter": "python",
   "pygments_lexer": "ipython3",
   "version": "3.7.0"
  }
 },
 "nbformat": 4,
 "nbformat_minor": 5
}
