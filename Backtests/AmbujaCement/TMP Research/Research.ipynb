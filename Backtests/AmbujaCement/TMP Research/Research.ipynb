{
 "cells": [
  {
   "cell_type": "code",
   "execution_count": 12,
   "id": "5a64d36b",
   "metadata": {},
   "outputs": [],
   "source": [
    "import pandas as pd\n",
    "from matplotlib.pyplot import *"
   ]
  },
  {
   "cell_type": "code",
   "execution_count": 2,
   "id": "82ab2474",
   "metadata": {},
   "outputs": [],
   "source": [
    "stock = \"AMBUJACEM\"\n",
    "options = []\n",
    "prices = []\n",
    "\n",
    "for i in range(6):\n",
    "    options.append(\"%s-options-PE-%s.csv\"%(stock,str(i+1)))\n",
    "    prices.append(\"%s-prices-%s.csv\"%(stock,str(i+1)))"
   ]
  },
  {
   "cell_type": "code",
   "execution_count": 3,
   "id": "f98677c8",
   "metadata": {},
   "outputs": [],
   "source": [
    "opts_df = []\n",
    "prices_df = []\n",
    "\n",
    "for x in options:\n",
    "    opts_df.append(pd.read_csv(x))\n",
    "\n",
    "for x in prices:\n",
    "    prices_df.append(pd.read_csv(x))"
   ]
  },
  {
   "cell_type": "code",
   "execution_count": 4,
   "id": "79a7870c",
   "metadata": {},
   "outputs": [],
   "source": [
    "opts = pd.concat(opts_df)\n",
    "prices = pd.concat(prices_df)"
   ]
  },
  {
   "cell_type": "code",
   "execution_count": 5,
   "id": "3dee04fc",
   "metadata": {},
   "outputs": [],
   "source": [
    "opts = opts.set_index('Date')\n",
    "prices = prices.set_index('Date')"
   ]
  },
  {
   "cell_type": "code",
   "execution_count": 6,
   "id": "43640de6",
   "metadata": {},
   "outputs": [],
   "source": [
    "opts[\"Change\"] = (opts[\"Close\"] - opts[\"Open\"])*100 / opts[\"Open\"]\n",
    "prices[\"Change\"] = (prices[\"Close\"] - prices[\"Open\"])*100 / prices[\"Open\"]\n",
    "opts[\"Delta\"] = abs(opts[\"Change\"] / prices[\"Change\"])"
   ]
  },
  {
   "cell_type": "code",
   "execution_count": 7,
   "id": "e9c9ffe6",
   "metadata": {},
   "outputs": [],
   "source": [
    "opts[\"Returns\"] = opts.Change.shift(-1)"
   ]
  },
  {
   "cell_type": "code",
   "execution_count": 8,
   "id": "56884e7f",
   "metadata": {},
   "outputs": [
    {
     "data": {
      "text/html": [
       "<div>\n",
       "<style scoped>\n",
       "    .dataframe tbody tr th:only-of-type {\n",
       "        vertical-align: middle;\n",
       "    }\n",
       "\n",
       "    .dataframe tbody tr th {\n",
       "        vertical-align: top;\n",
       "    }\n",
       "\n",
       "    .dataframe thead th {\n",
       "        text-align: right;\n",
       "    }\n",
       "</style>\n",
       "<table border=\"1\" class=\"dataframe\">\n",
       "  <thead>\n",
       "    <tr style=\"text-align: right;\">\n",
       "      <th></th>\n",
       "      <th>Symbol</th>\n",
       "      <th>Expiry</th>\n",
       "      <th>Option Type</th>\n",
       "      <th>Strike Price</th>\n",
       "      <th>Open</th>\n",
       "      <th>High</th>\n",
       "      <th>Low</th>\n",
       "      <th>Close</th>\n",
       "      <th>LTP</th>\n",
       "      <th>Settle Price</th>\n",
       "      <th>No. of contracts</th>\n",
       "      <th>Turnover in Lacs</th>\n",
       "      <th>Premium Turnover in Lacs</th>\n",
       "      <th>Open Int</th>\n",
       "      <th>Change in OI</th>\n",
       "      <th>Underlying Value</th>\n",
       "      <th>Change</th>\n",
       "      <th>Delta</th>\n",
       "      <th>Returns</th>\n",
       "    </tr>\n",
       "    <tr>\n",
       "      <th>Date</th>\n",
       "      <th></th>\n",
       "      <th></th>\n",
       "      <th></th>\n",
       "      <th></th>\n",
       "      <th></th>\n",
       "      <th></th>\n",
       "      <th></th>\n",
       "      <th></th>\n",
       "      <th></th>\n",
       "      <th></th>\n",
       "      <th></th>\n",
       "      <th></th>\n",
       "      <th></th>\n",
       "      <th></th>\n",
       "      <th></th>\n",
       "      <th></th>\n",
       "      <th></th>\n",
       "      <th></th>\n",
       "      <th></th>\n",
       "    </tr>\n",
       "  </thead>\n",
       "  <tbody>\n",
       "    <tr>\n",
       "      <th>03-Jan-2022</th>\n",
       "      <td>AMBUJACEM</td>\n",
       "      <td>27-Jan-2022</td>\n",
       "      <td>PE</td>\n",
       "      <td>380</td>\n",
       "      <td>11.85</td>\n",
       "      <td>11.85</td>\n",
       "      <td>7.00</td>\n",
       "      <td>7.55</td>\n",
       "      <td>7.15</td>\n",
       "      <td>7.55</td>\n",
       "      <td>450</td>\n",
       "      <td>2622.44</td>\n",
       "      <td>57.44</td>\n",
       "      <td>277500</td>\n",
       "      <td>97500</td>\n",
       "      <td>387</td>\n",
       "      <td>-36.286920</td>\n",
       "      <td>16.658995</td>\n",
       "      <td>-3.076923</td>\n",
       "    </tr>\n",
       "    <tr>\n",
       "      <th>04-Jan-2022</th>\n",
       "      <td>AMBUJACEM</td>\n",
       "      <td>27-Jan-2022</td>\n",
       "      <td>PE</td>\n",
       "      <td>380</td>\n",
       "      <td>6.50</td>\n",
       "      <td>8.75</td>\n",
       "      <td>6.05</td>\n",
       "      <td>6.30</td>\n",
       "      <td>6.30</td>\n",
       "      <td>6.30</td>\n",
       "      <td>315</td>\n",
       "      <td>1829.61</td>\n",
       "      <td>34.11</td>\n",
       "      <td>291000</td>\n",
       "      <td>13500</td>\n",
       "      <td>-</td>\n",
       "      <td>-3.076923</td>\n",
       "      <td>4.111936</td>\n",
       "      <td>-20.168067</td>\n",
       "    </tr>\n",
       "    <tr>\n",
       "      <th>05-Jan-2022</th>\n",
       "      <td>AMBUJACEM</td>\n",
       "      <td>27-Jan-2022</td>\n",
       "      <td>PE</td>\n",
       "      <td>380</td>\n",
       "      <td>5.95</td>\n",
       "      <td>6.45</td>\n",
       "      <td>4.60</td>\n",
       "      <td>4.75</td>\n",
       "      <td>4.70</td>\n",
       "      <td>4.75</td>\n",
       "      <td>296</td>\n",
       "      <td>1712.00</td>\n",
       "      <td>24.80</td>\n",
       "      <td>261000</td>\n",
       "      <td>-30000</td>\n",
       "      <td>393.7</td>\n",
       "      <td>-20.168067</td>\n",
       "      <td>20.972101</td>\n",
       "      <td>19.834711</td>\n",
       "    </tr>\n",
       "    <tr>\n",
       "      <th>06-Jan-2022</th>\n",
       "      <td>AMBUJACEM</td>\n",
       "      <td>27-Jan-2022</td>\n",
       "      <td>PE</td>\n",
       "      <td>380</td>\n",
       "      <td>6.05</td>\n",
       "      <td>8.25</td>\n",
       "      <td>5.05</td>\n",
       "      <td>7.25</td>\n",
       "      <td>7.15</td>\n",
       "      <td>7.25</td>\n",
       "      <td>360</td>\n",
       "      <td>2087.71</td>\n",
       "      <td>35.71</td>\n",
       "      <td>261000</td>\n",
       "      <td>0</td>\n",
       "      <td>387.05</td>\n",
       "      <td>19.834711</td>\n",
       "      <td>25.368920</td>\n",
       "      <td>-32.413793</td>\n",
       "    </tr>\n",
       "    <tr>\n",
       "      <th>07-Jan-2022</th>\n",
       "      <td>AMBUJACEM</td>\n",
       "      <td>27-Jan-2022</td>\n",
       "      <td>PE</td>\n",
       "      <td>380</td>\n",
       "      <td>7.25</td>\n",
       "      <td>7.25</td>\n",
       "      <td>4.00</td>\n",
       "      <td>4.90</td>\n",
       "      <td>4.70</td>\n",
       "      <td>4.90</td>\n",
       "      <td>538</td>\n",
       "      <td>3108.44</td>\n",
       "      <td>41.84</td>\n",
       "      <td>349500</td>\n",
       "      <td>88500</td>\n",
       "      <td>397.25</td>\n",
       "      <td>-32.413793</td>\n",
       "      <td>12.299763</td>\n",
       "      <td>-11.250000</td>\n",
       "    </tr>\n",
       "  </tbody>\n",
       "</table>\n",
       "</div>"
      ],
      "text/plain": [
       "                Symbol       Expiry Option Type  Strike Price   Open   High  \\\n",
       "Date                                                                          \n",
       "03-Jan-2022  AMBUJACEM  27-Jan-2022          PE           380  11.85  11.85   \n",
       "04-Jan-2022  AMBUJACEM  27-Jan-2022          PE           380   6.50   8.75   \n",
       "05-Jan-2022  AMBUJACEM  27-Jan-2022          PE           380   5.95   6.45   \n",
       "06-Jan-2022  AMBUJACEM  27-Jan-2022          PE           380   6.05   8.25   \n",
       "07-Jan-2022  AMBUJACEM  27-Jan-2022          PE           380   7.25   7.25   \n",
       "\n",
       "              Low  Close   LTP  Settle Price  No. of contracts  \\\n",
       "Date                                                             \n",
       "03-Jan-2022  7.00   7.55  7.15          7.55               450   \n",
       "04-Jan-2022  6.05   6.30  6.30          6.30               315   \n",
       "05-Jan-2022  4.60   4.75  4.70          4.75               296   \n",
       "06-Jan-2022  5.05   7.25  7.15          7.25               360   \n",
       "07-Jan-2022  4.00   4.90  4.70          4.90               538   \n",
       "\n",
       "             Turnover in Lacs  Premium Turnover in Lacs  Open Int  \\\n",
       "Date                                                                \n",
       "03-Jan-2022           2622.44                     57.44    277500   \n",
       "04-Jan-2022           1829.61                     34.11    291000   \n",
       "05-Jan-2022           1712.00                     24.80    261000   \n",
       "06-Jan-2022           2087.71                     35.71    261000   \n",
       "07-Jan-2022           3108.44                     41.84    349500   \n",
       "\n",
       "             Change in OI Underlying Value     Change      Delta    Returns  \n",
       "Date                                                                         \n",
       "03-Jan-2022         97500              387 -36.286920  16.658995  -3.076923  \n",
       "04-Jan-2022         13500                -  -3.076923   4.111936 -20.168067  \n",
       "05-Jan-2022        -30000            393.7 -20.168067  20.972101  19.834711  \n",
       "06-Jan-2022             0           387.05  19.834711  25.368920 -32.413793  \n",
       "07-Jan-2022         88500           397.25 -32.413793  12.299763 -11.250000  "
      ]
     },
     "execution_count": 8,
     "metadata": {},
     "output_type": "execute_result"
    }
   ],
   "source": [
    "opts.head()"
   ]
  },
  {
   "cell_type": "code",
   "execution_count": 9,
   "id": "4b83831e",
   "metadata": {},
   "outputs": [],
   "source": [
    "writer = pd.ExcelWriter(\"results.xlsx\",engine=\"xlsxwriter\")"
   ]
  },
  {
   "cell_type": "code",
   "execution_count": 10,
   "id": "d7375a1f",
   "metadata": {},
   "outputs": [],
   "source": [
    "opts.to_excel(writer,sheet_name=\"options\")\n",
    "prices.to_excel(writer,sheet_name=\"prices\")"
   ]
  },
  {
   "cell_type": "code",
   "execution_count": 11,
   "id": "9d782801",
   "metadata": {},
   "outputs": [],
   "source": [
    "writer.save()"
   ]
  },
  {
   "cell_type": "code",
   "execution_count": 22,
   "id": "0a5aa880",
   "metadata": {},
   "outputs": [
    {
     "data": {
      "image/png": "[encoded data removed]",
      "text/plain": [
       "<Figure size 432x288 with 1 Axes>"
      ]
     },
     "metadata": {
      "needs_background": "light"
     },
     "output_type": "display_data"
    }
   ],
   "source": [
    "col = \"No. of contracts\"\n",
    "for index,rows in opts.iterrows():\n",
    "    if rows[\"Returns\"] > 200:\n",
    "        continue\n",
    "    if rows[\"Returns\"] >= 20:\n",
    "        scatter(rows[\"Returns\"],rows[col],color=\"green\")\n",
    "    elif rows[\"Returns\"] <= -15:\n",
    "        scatter(abs(rows[\"Returns\"]),rows[col],color=\"red\")"
   ]
  },
  {
   "cell_type": "code",
   "execution_count": null,
   "id": "e9c0a55c",
   "metadata": {},
   "outputs": [],
   "source": []
  }
 ],
 "metadata": {
  "kernelspec": {
   "display_name": "Python 3 (ipykernel)",
   "language": "python",
   "name": "python3"
  },
  "language_info": {
   "codemirror_mode": {
    "name": "ipython",
    "version": 3
   },
   "file_extension": ".py",
   "mimetype": "text/x-python",
   "name": "python",
   "nbconvert_exporter": "python",
   "pygments_lexer": "ipython3",
   "version": "3.7.0"
  }
 },
 "nbformat": 4,
 "nbformat_minor": 5
}
