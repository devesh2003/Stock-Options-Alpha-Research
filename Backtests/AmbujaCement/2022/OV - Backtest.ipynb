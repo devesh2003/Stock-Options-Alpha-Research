{
 "cells": [
  {
   "cell_type": "code",
   "execution_count": 1,
   "id": "723f006a",
   "metadata": {},
   "outputs": [],
   "source": [
    "import pandas as pd\n",
    "from matplotlib.pyplot import *\n",
    "import sys\n",
    "sys.path.insert(1,\"../../\")\n",
    "from OVTests import *"
   ]
  },
  {
   "cell_type": "code",
   "execution_count": 2,
   "id": "b16f21f9",
   "metadata": {},
   "outputs": [],
   "source": [
    "stock = \"AMBUJACEM\"\n",
    "options = []\n",
    "prices = []\n",
    "\n",
    "for i in range(6):\n",
    "    options.append(\"%s-options-CE-%s.csv\"%(stock,str(i+1)))\n",
    "    prices.append(\"%s-prices-%s.csv\"%(stock,str(i+1)))"
   ]
  },
  {
   "cell_type": "code",
   "execution_count": 3,
   "id": "4f1609af",
   "metadata": {},
   "outputs": [],
   "source": [
    "# tmp = OVBacktest(options[6],prices[6])\n",
    "# df = tmp.options\n",
    "# df.head()"
   ]
  },
  {
   "cell_type": "code",
   "execution_count": 4,
   "id": "bb2b84d8",
   "metadata": {},
   "outputs": [],
   "source": [
    "# tmp = OVBacktest(options[6],prices[6])\n",
    "# df = tmp.options\n",
    "# df.head()"
   ]
  },
  {
   "cell_type": "code",
   "execution_count": 5,
   "id": "581d6209",
   "metadata": {},
   "outputs": [],
   "source": [
    "for i in prices:\n",
    "    df = pd.read_csv(i)\n",
    "    df[\"Close\"] = df[\"Close Price\"]\n",
    "    df[\"Open\"] = df[\"Open Price\"]\n",
    "    df.to_csv(i)"
   ]
  },
  {
   "cell_type": "code",
   "execution_count": 6,
   "id": "fe39c635",
   "metadata": {},
   "outputs": [],
   "source": [
    "loader = Loader(options,prices,strategy=2)"
   ]
  },
  {
   "cell_type": "code",
   "execution_count": 7,
   "id": "fee12e39",
   "metadata": {
    "scrolled": true
   },
   "outputs": [
    {
     "name": "stdout",
     "output_type": "stream",
     "text": [
      "Returns: 32.547699214365885\n",
      "Returns: 40.42261904761905\n",
      "Returns: 64.34126865305996\n",
      "Returns: 0\n",
      "Returns: 3.799311734094317\n",
      "Returns: 12.721342031686863\n"
     ]
    },
    {
     "data": {
      "text/plain": [
       "153.8322406808261"
      ]
     },
     "execution_count": 7,
     "metadata": {},
     "output_type": "execute_result"
    }
   ],
   "source": [
    "loader.find_net_returns(0.4,verbose=True)"
   ]
  },
  {
   "cell_type": "code",
   "execution_count": 8,
   "id": "0211f1ed",
   "metadata": {},
   "outputs": [],
   "source": [
    "loader.generate_results(0.3)"
   ]
  },
  {
   "cell_type": "code",
   "execution_count": 42,
   "id": "ddcaeb6f",
   "metadata": {},
   "outputs": [
    {
     "name": "stdout",
     "output_type": "stream",
     "text": [
      "Max Returns: 631.2752229120262\n",
      "Optimal Threshold: 0.8900000000000006\n",
      "Time Taken: 5.476348161697388 seconds\n"
     ]
    },
    {
     "data": {
      "text/plain": [
       "0.8900000000000006"
      ]
     },
     "execution_count": 42,
     "metadata": {},
     "output_type": "execute_result"
    }
   ],
   "source": [
    "loader.find_optimal_threshold(verbose=True)"
   ]
  },
  {
   "cell_type": "code",
   "execution_count": null,
   "id": "d4414f5a",
   "metadata": {},
   "outputs": [],
   "source": []
  }
 ],
 "metadata": {
  "kernelspec": {
   "display_name": "Python 3 (ipykernel)",
   "language": "python",
   "name": "python3"
  },
  "language_info": {
   "codemirror_mode": {
    "name": "ipython",
    "version": 3
   },
   "file_extension": ".py",
   "mimetype": "text/x-python",
   "name": "python",
   "nbconvert_exporter": "python",
   "pygments_lexer": "ipython3",
   "version": "3.7.0"
  }
 },
 "nbformat": 4,
 "nbformat_minor": 5
}
