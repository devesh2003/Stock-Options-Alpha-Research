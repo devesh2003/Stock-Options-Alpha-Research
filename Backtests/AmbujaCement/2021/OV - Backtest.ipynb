{
 "cells": [
  {
   "cell_type": "code",
   "execution_count": 3,
   "id": "723f006a",
   "metadata": {},
   "outputs": [],
   "source": [
    "import pandas as pd\n",
    "from matplotlib.pyplot import *\n",
    "import sys\n",
    "sys.path.insert(1,\"../../\")\n",
    "from OVTests import *"
   ]
  },
  {
   "cell_type": "code",
   "execution_count": 23,
   "id": "b16f21f9",
   "metadata": {},
   "outputs": [],
   "source": [
    "stock = \"AMBUJACEM\"\n",
    "options = []\n",
    "prices = []\n",
    "errors = [6,8,9]\n",
    "\n",
    "for i in range(12):\n",
    "    if i+1 not in errors:\n",
    "        options.append(\"%s-options-CE-%s.csv\"%(stock,str(i+1)))\n",
    "        prices.append(\"%s-prices-%s.csv\"%(stock,str(i+1)))"
   ]
  },
  {
   "cell_type": "code",
   "execution_count": 24,
   "id": "581d6209",
   "metadata": {},
   "outputs": [],
   "source": [
    "# for i in prices:\n",
    "#     df = pd.read_csv(i)\n",
    "#     df[\"Close\"] = df[\"Close Price\"]\n",
    "#     df[\"Open\"] = df[\"Open Price\"]\n",
    "#     df.to_csv(i)"
   ]
  },
  {
   "cell_type": "code",
   "execution_count": 32,
   "id": "fe39c635",
   "metadata": {},
   "outputs": [],
   "source": [
    "loader = Loader(options,prices,strategy=2)"
   ]
  },
  {
   "cell_type": "code",
   "execution_count": 33,
   "id": "fee12e39",
   "metadata": {
    "scrolled": true
   },
   "outputs": [
    {
     "name": "stdout",
     "output_type": "stream",
     "text": [
      "Returns: 0\n",
      "Returns: 0\n",
      "Returns: 0\n",
      "Returns: 119.09591753225406\n",
      "Returns: -87.90413533834585\n",
      "Returns: -36.666666666666664\n",
      "Returns: 26.019162421793254\n",
      "Returns: -56.18374558303887\n",
      "Returns: -72.03927969350653\n"
     ]
    },
    {
     "data": {
      "text/plain": [
       "-107.67874732751059"
      ]
     },
     "execution_count": 33,
     "metadata": {},
     "output_type": "execute_result"
    }
   ],
   "source": [
    "loader.find_net_returns(0.3,verbose=True)"
   ]
  },
  {
   "cell_type": "code",
   "execution_count": 10,
   "id": "0211f1ed",
   "metadata": {},
   "outputs": [],
   "source": [
    "# loader.generate_results(0.3)"
   ]
  },
  {
   "cell_type": "code",
   "execution_count": 27,
   "id": "ddcaeb6f",
   "metadata": {},
   "outputs": [
    {
     "name": "stdout",
     "output_type": "stream",
     "text": [
      "Max Returns: 282.27757673415874\n",
      "Optimal Threshold: 0.49000000000000027\n",
      "Time Taken: 3.0225181579589844 seconds\n"
     ]
    },
    {
     "data": {
      "text/plain": [
       "0.49000000000000027"
      ]
     },
     "execution_count": 27,
     "metadata": {},
     "output_type": "execute_result"
    }
   ],
   "source": [
    "loader.find_optimal_threshold(verbose=True)"
   ]
  },
  {
   "cell_type": "code",
   "execution_count": null,
   "id": "d4414f5a",
   "metadata": {},
   "outputs": [],
   "source": []
  }
 ],
 "metadata": {
  "kernelspec": {
   "display_name": "Python 3 (ipykernel)",
   "language": "python",
   "name": "python3"
  },
  "language_info": {
   "codemirror_mode": {
    "name": "ipython",
    "version": 3
   },
   "file_extension": ".py",
   "mimetype": "text/x-python",
   "name": "python",
   "nbconvert_exporter": "python",
   "pygments_lexer": "ipython3",
   "version": "3.7.0"
  }
 },
 "nbformat": 4,
 "nbformat_minor": 5
}
