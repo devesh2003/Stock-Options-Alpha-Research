{
 "cells": [
  {
   "cell_type": "code",
   "execution_count": 1,
   "id": "00966936",
   "metadata": {},
   "outputs": [],
   "source": [
    "import requests\n",
    "from base64 import *"
   ]
  },
  {
   "cell_type": "code",
   "execution_count": 18,
   "id": "b13b87a9",
   "metadata": {},
   "outputs": [
    {
     "ename": "MemoryError",
     "evalue": "",
     "output_type": "error",
     "traceback": [
      "\u001b[1;31m---------------------------------------------------------------------------\u001b[0m",
      "\u001b[1;31mMemoryError\u001b[0m                               Traceback (most recent call last)",
      "\u001b[1;32m~\\AppData\\Local\\Temp\\ipykernel_14248\\4266539016.py\u001b[0m in \u001b[0;36m<module>\u001b[1;34m\u001b[0m\n\u001b[0;32m      1\u001b[0m \u001b[0mvideo\u001b[0m \u001b[1;33m=\u001b[0m \u001b[1;34m\"\"\u001b[0m\u001b[1;33m\u001b[0m\u001b[0m\n\u001b[0;32m      2\u001b[0m \u001b[1;32mwith\u001b[0m \u001b[0mopen\u001b[0m\u001b[1;33m(\u001b[0m\u001b[1;34m\"video.mp4\"\u001b[0m\u001b[1;33m,\u001b[0m\u001b[1;34m\"r\"\u001b[0m\u001b[1;33m)\u001b[0m \u001b[1;32mas\u001b[0m \u001b[0mf\u001b[0m\u001b[1;33m:\u001b[0m\u001b[1;33m\u001b[0m\u001b[0m\n\u001b[1;32m----> 3\u001b[1;33m     \u001b[0ma\u001b[0m \u001b[1;33m=\u001b[0m \u001b[0mf\u001b[0m\u001b[1;33m.\u001b[0m\u001b[0mread\u001b[0m\u001b[1;33m(\u001b[0m\u001b[1;33m)\u001b[0m\u001b[1;33m\u001b[0m\u001b[0m\n\u001b[0m",
      "\u001b[1;31mMemoryError\u001b[0m: "
     ]
    }
   ],
   "source": [
    "video = \"\"\n",
    "with open(\"video.mp4\",\"r\") as f:\n",
    "    a = f.read()"
   ]
  },
  {
   "cell_type": "code",
   "execution_count": 16,
   "id": "90685063",
   "metadata": {},
   "outputs": [
    {
     "ename": "MemoryError",
     "evalue": "",
     "output_type": "error",
     "traceback": [
      "\u001b[1;31m---------------------------------------------------------------------------\u001b[0m",
      "\u001b[1;31mMemoryError\u001b[0m                               Traceback (most recent call last)",
      "\u001b[1;32m~\\AppData\\Local\\Temp\\ipykernel_14248\\4281981807.py\u001b[0m in \u001b[0;36m<module>\u001b[1;34m\u001b[0m\n\u001b[0;32m      6\u001b[0m \u001b[1;33m\u001b[0m\u001b[0m\n\u001b[0;32m      7\u001b[0m data = {\n\u001b[1;32m----> 8\u001b[1;33m     \u001b[1;34m\"image\"\u001b[0m\u001b[1;33m:\u001b[0m\u001b[1;34m\"data:video/mp4;base64,\"\u001b[0m\u001b[1;33m+\u001b[0m\u001b[0ma\u001b[0m\u001b[1;33m.\u001b[0m\u001b[0mdecode\u001b[0m\u001b[1;33m(\u001b[0m\u001b[1;33m)\u001b[0m\u001b[1;33m\u001b[0m\u001b[0m\n\u001b[0m\u001b[0;32m      9\u001b[0m }\n\u001b[0;32m     10\u001b[0m \u001b[1;33m\u001b[0m\u001b[0m\n",
      "\u001b[1;31mMemoryError\u001b[0m: "
     ]
    }
   ],
   "source": [
    "url = \"https://api-engage.moneyyapp.in/v1/imageupload/upload\"\n",
    "headers = {\n",
    "    \"User-Agent\":\"Google\",\n",
    "    \"Content-Type\":\"application/json\"\n",
    "}\n",
    "\n",
    "data = {\n",
    "    \"image\":\"data:video/mp4;base64,\"+a.decode()\n",
    "}\n",
    "\n",
    "proxies = {\n",
    "    \"https\":\"127.0.0.1:8080\"\n",
    "}"
   ]
  },
  {
   "cell_type": "code",
   "execution_count": 3,
   "id": "9cbdc242",
   "metadata": {},
   "outputs": [
    {
     "name": "stderr",
     "output_type": "stream",
     "text": [
      "c:\\users\\deves\\appdata\\local\\programs\\python\\python37\\lib\\site-packages\\urllib3\\connectionpool.py:1050: InsecureRequestWarning: Unverified HTTPS request is being made to host '127.0.0.1'. Adding certificate verification is strongly advised. See: https://urllib3.readthedocs.io/en/1.26.x/advanced-usage.html#ssl-warnings\n",
      "  InsecureRequestWarning,\n"
     ]
    }
   ],
   "source": [
    "r = requests.post(url,headers=headers,json=data,verify=False,proxies=proxies)"
   ]
  },
  {
   "cell_type": "code",
   "execution_count": 4,
   "id": "32d19e2b",
   "metadata": {},
   "outputs": [
    {
     "data": {
      "text/plain": [
       "'https://myy1.sgp1.digitaloceanspaces.com/banner1656668855865.csv'"
      ]
     },
     "execution_count": 4,
     "metadata": {},
     "output_type": "execute_result"
    }
   ],
   "source": [
    "r.text"
   ]
  },
  {
   "cell_type": "code",
   "execution_count": 9,
   "id": "940922db",
   "metadata": {},
   "outputs": [
    {
     "data": {
      "text/plain": [
       "b'AAAAI'"
      ]
     },
     "execution_count": 9,
     "metadata": {},
     "output_type": "execute_result"
    }
   ],
   "source": [
    "video[:5]"
   ]
  },
  {
   "cell_type": "code",
   "execution_count": 15,
   "id": "14693f33",
   "metadata": {},
   "outputs": [],
   "source": [
    "with open(\"encoded.b64\",\"wb\") as f:\n",
    "    f.write(video)"
   ]
  },
  {
   "cell_type": "code",
   "execution_count": null,
   "id": "ece53e66",
   "metadata": {},
   "outputs": [],
   "source": []
  },
  {
   "cell_type": "code",
   "execution_count": null,
   "id": "d75ee9b7",
   "metadata": {},
   "outputs": [],
   "source": []
  }
 ],
 "metadata": {
  "kernelspec": {
   "display_name": "Python 3 (ipykernel)",
   "language": "python",
   "name": "python3"
  },
  "language_info": {
   "codemirror_mode": {
    "name": "ipython",
    "version": 3
   },
   "file_extension": ".py",
   "mimetype": "text/x-python",
   "name": "python",
   "nbconvert_exporter": "python",
   "pygments_lexer": "ipython3",
   "version": "3.7.0"
  }
 },
 "nbformat": 4,
 "nbformat_minor": 5
}
