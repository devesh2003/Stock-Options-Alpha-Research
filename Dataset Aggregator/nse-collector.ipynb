{
 "cells": [
  {
   "cell_type": "code",
   "execution_count": 13,
   "id": "a0ff4fec",
   "metadata": {},
   "outputs": [],
   "source": [
    "from bs4 import BeautifulSoup\n",
    "import requests\n",
    "import pandas as pd\n",
    "import calendar"
   ]
  },
  {
   "cell_type": "markdown",
   "id": "2f55481d",
   "metadata": {},
   "source": [
    "# Request\n",
    "\n",
    "1. Options: https://www1.nseindia.com/products/dynaContent/common/productsSymbolMapping.jsp?instrumentType=OPTIDX&symbol=BANKNIFTY&expiryDate=28-10-2021&optionType=CE&strikePrice=34000&dateRange=&fromDate=01-Sep-2021&toDate=28-Oct-2021&segmentLink=9&symbolCount=\n",
    "2. Prices: https://www1.nseindia.com/products/dynaContent/equities/indices/historicalindices.jsp?indexType=NIFTY%20BANK&fromDate=01-06-2022&toDate=22-06-2022\n",
    "3. Stock Options: https://www1.nseindia.com/products/dynaContent/common/productsSymbolMapping.jsp?instrumentType=OPTSTK&symbol=BANKNIFTY&expiryDate=28-10-2021&optionType=CE&strikePrice=34000&dateRange=&fromDate=01-Sep-2021&toDate=28-Oct-2021&segmentLink=9&symbolCount=\n",
    "4. Stock Prices: https://www1.nseindia.com/products/dynaContent/common/productsSymbolMapping.jsp?symbol=ADANIENT&segmentLink=3&symbolCount=1&series=ALL&dateRange=+&fromDate=01-07-2022&toDate=02-07-2022&dataType=PRICEVOLUMEDELIVERABLE"
   ]
  },
  {
   "cell_type": "code",
   "execution_count": 14,
   "id": "9c8c3a54",
   "metadata": {},
   "outputs": [],
   "source": [
    "class GetData:\n",
    "    def __init__(self,from_date,to_date,prices_file):\n",
    "        self.from_date = from_date\n",
    "        self.to_date = to_date\n",
    "        self.prices_file = prices_file\n",
    "        self.headers = {\n",
    "            \"Accept\":\"*/*\",\n",
    "            \"Referer\":\"https://www1.nseindia.com/products/content/derivatives/equities/historical_fo.htm\",\n",
    "            \"Accept-Encoding\":\"gzip, deflate\",\n",
    "            \"User-Agent\":\"Google\",\n",
    "            \"Accept-Language\":\"en-US,en;q=0.9,hi;q=0.8,ru;q=0.7\"\n",
    "        }\n",
    "\n",
    "        self.proxies = {\n",
    "            \"http\":\"127.0.0.1:8080\",\n",
    "            \"https\":\"127.0.0.1:8080\"\n",
    "        }\n",
    "        \n",
    "        self.months = {\n",
    "            1:\"Jan\",\n",
    "            2:\"Feb\",\n",
    "            3:\"Mar\",\n",
    "            4:\"Apr\",\n",
    "            5:\"May\",\n",
    "            6:\"Jun\",\n",
    "            7:\"Jul\",\n",
    "            8:\"Aug\",\n",
    "            9:\"Sep\",\n",
    "            10:\"Oct\",\n",
    "            11:\"Nov\",\n",
    "            12:\"Dec\"\n",
    "        }\n",
    "    \n",
    "    def get_prices(self):\n",
    "        try:\n",
    "            r = requests.get(\"https://www1.nseindia.com/products/dynaContent/equities/indices/historicalindices.jsp?indexType=NIFTY BANK&fromDate=%s&toDate=%s\"%(self.from_date,self.to_date),\n",
    "                            headers=self.headers,verify=False)\n",
    "            self.construct_csv(self.prices_file,r.text)\n",
    "            \n",
    "        except Exception as e:\n",
    "            print(str(e))\n",
    "            \n",
    "    def get_options(self,batch):\n",
    "        df = pd.read_csv(self.prices_file)\n",
    "        # Assuming price is 5 digits\n",
    "        self.strike = int(df[\"Close\"][0]/1000)*1000\n",
    "        opt_types = [\"PE\",\"CE\"]\n",
    "        f_month = self.months[int(self.from_date.split(\"-\")[1])]\n",
    "        t_month = self.months[int(self.to_date.split(\"-\")[1])]\n",
    "        \n",
    "        #Setting up from\n",
    "        tmp = self.from_date.split(\"-\")\n",
    "        tmp[1] = f_month\n",
    "        self.opt_from = \"-\".join(tmp)\n",
    "        \n",
    "        #Setting up to\n",
    "        tmp = self.to_date.split(\"-\")\n",
    "        tmp[1] = t_month\n",
    "        self.opt_to = \"-\".join(tmp)\n",
    "        \n",
    "        for opt_type in opt_types:\n",
    "            url = \"https://www1.nseindia.com/products/dynaContent/common/productsSymbolMapping.jsp?instrumentType=OPTIDX&symbol=BANKNIFTY&expiryDate=%s&optionType=%s&strikePrice=%s&dateRange=&fromDate=%s&toDate=%s&segmentLink=9&symbolCount=\"%(self.to_date,opt_type,self.strike,self.opt_from,self.opt_to)\n",
    "            r = requests.get(url,headers=self.headers,verify=False)\n",
    "            self.construct_csv(\"banknifty-options-\"+opt_type+\"-\"+str(batch)+\".csv\",r.text)\n",
    "        \n",
    "    \n",
    "    def construct_csv(self,file_name,data):\n",
    "        with open(file_name,\"w\") as f:\n",
    "            data = \"\\n\".join(BeautifulSoup(data,\"html.parser\").find(\"div\",{\"id\":\"csvContentDiv\"}).text.split(\":\"))\n",
    "            f.write(data)\n",
    "    "
   ]
  },
  {
   "cell_type": "code",
   "execution_count": 15,
   "id": "42d8d961",
   "metadata": {},
   "outputs": [],
   "source": [
    "# g = GetData(\"01-06-2022\",\"23-06-2022\",\"test.csv\")"
   ]
  },
  {
   "cell_type": "code",
   "execution_count": 16,
   "id": "a7b3f176",
   "metadata": {},
   "outputs": [],
   "source": [
    "# g.get_prices()"
   ]
  },
  {
   "cell_type": "code",
   "execution_count": 17,
   "id": "d1708eb1",
   "metadata": {},
   "outputs": [],
   "source": [
    "# a = \"01-06-2022\".split(\"-\")\n",
    "# a[1] = \"Jun\""
   ]
  },
  {
   "cell_type": "code",
   "execution_count": 18,
   "id": "08ce2a81",
   "metadata": {},
   "outputs": [],
   "source": [
    "# g.get_options(2)"
   ]
  },
  {
   "cell_type": "code",
   "execution_count": 19,
   "id": "1dd49bb3",
   "metadata": {},
   "outputs": [],
   "source": [
    "dates = [\n",
    "    [\"01-01-2019\",\"28-02-2019\"],\n",
    "    [\"01-03-2019\",\"25-04-2019\"],\n",
    "    [\"01-05-2019\",\"27-06-2019\"],\n",
    "    [\"01-07-2019\",\"29-08-2019\"],\n",
    "    [\"01-09-2019\",\"31-10-2019\"],\n",
    "    [\"01-11-2019\",\"26-12-2019\"],\n",
    "]"
   ]
  },
  {
   "cell_type": "code",
   "execution_count": 20,
   "id": "dbcfb832",
   "metadata": {
    "scrolled": true
   },
   "outputs": [],
   "source": [
    "# for batch,i in enumerate(dates):\n",
    "#     batch += 1\n",
    "#     g = GetData(i[0],i[1],\"banknifty-prices-\"+str(batch)+\".csv\")\n",
    "#     g.get_prices()\n",
    "#     g.get_options(batch)"
   ]
  },
  {
   "cell_type": "code",
   "execution_count": 39,
   "id": "764c8dbf",
   "metadata": {},
   "outputs": [],
   "source": [
    "class GetStockData(GetData):\n",
    "    def __init__(self,from_date,to_date,prices_file,stock):\n",
    "        self.from_date = from_date\n",
    "        self.errors = []\n",
    "        self.to_date = to_date\n",
    "        self.stock = stock\n",
    "        self.prices_file = prices_file\n",
    "        self.headers = {\n",
    "            \"Accept\":\"*/*\",\n",
    "            \"Referer\":\"https://www1.nseindia.com/products/content/derivatives/equities/historical_fo.htm\",\n",
    "            \"Accept-Encoding\":\"gzip, deflate\",\n",
    "            \"User-Agent\":\"Google\",\n",
    "            \"Accept-Language\":\"en-US,en;q=0.9,hi;q=0.8,ru;q=0.7\"\n",
    "        }\n",
    "\n",
    "        self.proxies = {\n",
    "            \"http\":\"127.0.0.1:8080\",\n",
    "            \"https\":\"127.0.0.1:8080\"\n",
    "        }\n",
    "        \n",
    "        self.months = {\n",
    "            1:\"Jan\",\n",
    "            2:\"Feb\",\n",
    "            3:\"Mar\",\n",
    "            4:\"Apr\",\n",
    "            5:\"May\",\n",
    "            6:\"Jun\",\n",
    "            7:\"Jul\",\n",
    "            8:\"Aug\",\n",
    "            9:\"Sep\",\n",
    "            10:\"Oct\",\n",
    "            11:\"Nov\",\n",
    "            12:\"Dec\"\n",
    "        }\n",
    "    \n",
    "    def get_options(self,batch):\n",
    "        df = pd.read_csv(self.prices_file)\n",
    "        # Rounding price to nearest ATM options\n",
    "        # Minimum 3 digit prices required\n",
    "        digs = len(str(int(df[\"Close Price\"][0])))\n",
    "        if digs > 2:\n",
    "            digs -= 1\n",
    "        p = df[\"Close Price\"][0]\n",
    "        self.strike = int(int(p)/(10**(digs-1)))*(10**(digs-1))\n",
    "        opt_types = [\"PE\",\"CE\"]\n",
    "        f_month = self.months[int(self.from_date.split(\"-\")[1])]\n",
    "        t_month = self.months[int(self.to_date.split(\"-\")[1])]\n",
    "        \n",
    "        #Setting up from\n",
    "        tmp = self.from_date.split(\"-\")\n",
    "        tmp[1] = f_month\n",
    "        self.opt_from = \"-\".join(tmp)\n",
    "        \n",
    "        #Setting up to\n",
    "        tmp = self.to_date.split(\"-\")\n",
    "        tmp[1] = t_month\n",
    "        self.opt_to = \"-\".join(tmp)\n",
    "        \n",
    "        for opt_type in opt_types:\n",
    "            try:\n",
    "                url = \"https://www1.nseindia.com/products/dynaContent/common/productsSymbolMapping.jsp?instrumentType=OPTSTK&symbol=%s&expiryDate=%s&optionType=%s&strikePrice=%s&dateRange=&fromDate=%s&toDate=%s&segmentLink=9&symbolCount=\"%(self.stock,self.to_date,opt_type,self.strike,self.opt_from,self.opt_to)\n",
    "                r = requests.get(url,headers=self.headers,verify=False,proxies=self.proxies)\n",
    "                self.construct_csv(\"%s-options-\"%(self.stock)+opt_type+\"-\"+str(batch)+\".csv\",r.text)\n",
    "            except Exception as e:\n",
    "                print(\"Error in batch %d : \"%(batch) + str(e))\n",
    "                self.errors.append(str(batch))\n",
    "                continue\n",
    "            \n",
    "    def get_prices(self):\n",
    "        try:\n",
    "            url = \"https://www1.nseindia.com/products/dynaContent/common/productsSymbolMapping.jsp?symbol=%s&segmentLink=3&symbolCount=1&series=ALL&dateRange=+&fromDate=%s&toDate=%s&dataType=PRICEVOLUMEDELIVERABLE\"%(self.stock,self.from_date,self.to_date)\n",
    "            r = requests.get(url,\n",
    "                            headers=self.headers,verify=False,proxies=self.proxies)\n",
    "            self.construct_csv(self.prices_file,r.text)\n",
    "            \n",
    "        except Exception as e:\n",
    "            print(str(e))"
   ]
  },
  {
   "cell_type": "code",
   "execution_count": 40,
   "id": "ec7386cc",
   "metadata": {},
   "outputs": [],
   "source": [
    "def get_thursdays(mat):\n",
    "    last = []\n",
    "    for x in mat:\n",
    "        for index,val in enumerate(x):\n",
    "            if(index == 3 and val != 0):\n",
    "                last.append(val)\n",
    "    return last[-1]\n",
    "\n",
    "def generate_full_year(year):\n",
    "    x = 1\n",
    "    dates = []\n",
    "    while(x <= 12):\n",
    "        start = \"01-\"+str(x)+\"-\"+str(year)\n",
    "        end = str(get_thursdays(calendar.monthcalendar(year,x))) + \"-\"+ str(x) + \"-\"+str(year)\n",
    "        dates.append([start,end])\n",
    "        x += 1\n",
    "    return dates"
   ]
  },
  {
   "cell_type": "code",
   "execution_count": 41,
   "id": "548c4069",
   "metadata": {},
   "outputs": [
    {
     "data": {
      "text/plain": [
       "[['01-1-2021', '28-1-2021'],\n",
       " ['01-2-2021', '25-2-2021'],\n",
       " ['01-3-2021', '25-3-2021'],\n",
       " ['01-4-2021', '29-4-2021'],\n",
       " ['01-5-2021', '27-5-2021'],\n",
       " ['01-6-2021', '24-6-2021'],\n",
       " ['01-7-2021', '29-7-2021'],\n",
       " ['01-8-2021', '26-8-2021'],\n",
       " ['01-9-2021', '30-9-2021'],\n",
       " ['01-10-2021', '28-10-2021'],\n",
       " ['01-11-2021', '25-11-2021'],\n",
       " ['01-12-2021', '30-12-2021']]"
      ]
     },
     "execution_count": 41,
     "metadata": {},
     "output_type": "execute_result"
    }
   ],
   "source": [
    "# dates = [\n",
    "#     [\"01-01-2019\",\"31-01-2019\"],\n",
    "#     [\"01-02-2019\",\"28-02-2019\"],\n",
    "#     [\"01-03-2019\",\"28-03-2019\"],\n",
    "#     [\"01-04-2019\",\"25-04-2019\"],\n",
    "#     [\"01-05-2019\",\"30-05-2019\"],\n",
    "#     [\"01-06-2019\",\"27-06-2019\"],\n",
    "#     [\"01-07-2019\",\"25-07-2019\"],\n",
    "#     [\"01-08-2019\",\"29-08-2019\"],\n",
    "#     [\"01-09-2019\",\"26-09-2019\"],\n",
    "#     [\"01-10-2019\",\"31-10-2019\"],\n",
    "#     [\"01-11-2019\",\"28-11-2019\"],\n",
    "#     [\"01-12-2019\",\"26-12-2019\"],\n",
    "# ]\n",
    "\n",
    "dates = generate_full_year(2021)\n",
    "dates"
   ]
  },
  {
   "cell_type": "code",
   "execution_count": 42,
   "id": "4ae4626a",
   "metadata": {},
   "outputs": [
    {
     "name": "stderr",
     "output_type": "stream",
     "text": [
      "c:\\users\\deves\\appdata\\local\\programs\\python\\python37\\lib\\site-packages\\urllib3\\connectionpool.py:1050: InsecureRequestWarning: Unverified HTTPS request is being made to host '127.0.0.1'. Adding certificate verification is strongly advised. See: https://urllib3.readthedocs.io/en/1.26.x/advanced-usage.html#ssl-warnings\n",
      "  InsecureRequestWarning,\n",
      "c:\\users\\deves\\appdata\\local\\programs\\python\\python37\\lib\\site-packages\\urllib3\\connectionpool.py:1050: InsecureRequestWarning: Unverified HTTPS request is being made to host '127.0.0.1'. Adding certificate verification is strongly advised. See: https://urllib3.readthedocs.io/en/1.26.x/advanced-usage.html#ssl-warnings\n",
      "  InsecureRequestWarning,\n",
      "c:\\users\\deves\\appdata\\local\\programs\\python\\python37\\lib\\site-packages\\urllib3\\connectionpool.py:1050: InsecureRequestWarning: Unverified HTTPS request is being made to host '127.0.0.1'. Adding certificate verification is strongly advised. See: https://urllib3.readthedocs.io/en/1.26.x/advanced-usage.html#ssl-warnings\n",
      "  InsecureRequestWarning,\n",
      "c:\\users\\deves\\appdata\\local\\programs\\python\\python37\\lib\\site-packages\\urllib3\\connectionpool.py:1050: InsecureRequestWarning: Unverified HTTPS request is being made to host '127.0.0.1'. Adding certificate verification is strongly advised. See: https://urllib3.readthedocs.io/en/1.26.x/advanced-usage.html#ssl-warnings\n",
      "  InsecureRequestWarning,\n",
      "c:\\users\\deves\\appdata\\local\\programs\\python\\python37\\lib\\site-packages\\urllib3\\connectionpool.py:1050: InsecureRequestWarning: Unverified HTTPS request is being made to host '127.0.0.1'. Adding certificate verification is strongly advised. See: https://urllib3.readthedocs.io/en/1.26.x/advanced-usage.html#ssl-warnings\n",
      "  InsecureRequestWarning,\n",
      "c:\\users\\deves\\appdata\\local\\programs\\python\\python37\\lib\\site-packages\\urllib3\\connectionpool.py:1050: InsecureRequestWarning: Unverified HTTPS request is being made to host '127.0.0.1'. Adding certificate verification is strongly advised. See: https://urllib3.readthedocs.io/en/1.26.x/advanced-usage.html#ssl-warnings\n",
      "  InsecureRequestWarning,\n",
      "c:\\users\\deves\\appdata\\local\\programs\\python\\python37\\lib\\site-packages\\urllib3\\connectionpool.py:1050: InsecureRequestWarning: Unverified HTTPS request is being made to host '127.0.0.1'. Adding certificate verification is strongly advised. See: https://urllib3.readthedocs.io/en/1.26.x/advanced-usage.html#ssl-warnings\n",
      "  InsecureRequestWarning,\n",
      "c:\\users\\deves\\appdata\\local\\programs\\python\\python37\\lib\\site-packages\\urllib3\\connectionpool.py:1050: InsecureRequestWarning: Unverified HTTPS request is being made to host '127.0.0.1'. Adding certificate verification is strongly advised. See: https://urllib3.readthedocs.io/en/1.26.x/advanced-usage.html#ssl-warnings\n",
      "  InsecureRequestWarning,\n",
      "c:\\users\\deves\\appdata\\local\\programs\\python\\python37\\lib\\site-packages\\urllib3\\connectionpool.py:1050: InsecureRequestWarning: Unverified HTTPS request is being made to host '127.0.0.1'. Adding certificate verification is strongly advised. See: https://urllib3.readthedocs.io/en/1.26.x/advanced-usage.html#ssl-warnings\n",
      "  InsecureRequestWarning,\n",
      "c:\\users\\deves\\appdata\\local\\programs\\python\\python37\\lib\\site-packages\\urllib3\\connectionpool.py:1050: InsecureRequestWarning: Unverified HTTPS request is being made to host '127.0.0.1'. Adding certificate verification is strongly advised. See: https://urllib3.readthedocs.io/en/1.26.x/advanced-usage.html#ssl-warnings\n",
      "  InsecureRequestWarning,\n",
      "c:\\users\\deves\\appdata\\local\\programs\\python\\python37\\lib\\site-packages\\urllib3\\connectionpool.py:1050: InsecureRequestWarning: Unverified HTTPS request is being made to host '127.0.0.1'. Adding certificate verification is strongly advised. See: https://urllib3.readthedocs.io/en/1.26.x/advanced-usage.html#ssl-warnings\n",
      "  InsecureRequestWarning,\n",
      "c:\\users\\deves\\appdata\\local\\programs\\python\\python37\\lib\\site-packages\\urllib3\\connectionpool.py:1050: InsecureRequestWarning: Unverified HTTPS request is being made to host '127.0.0.1'. Adding certificate verification is strongly advised. See: https://urllib3.readthedocs.io/en/1.26.x/advanced-usage.html#ssl-warnings\n",
      "  InsecureRequestWarning,\n",
      "c:\\users\\deves\\appdata\\local\\programs\\python\\python37\\lib\\site-packages\\urllib3\\connectionpool.py:1050: InsecureRequestWarning: Unverified HTTPS request is being made to host '127.0.0.1'. Adding certificate verification is strongly advised. See: https://urllib3.readthedocs.io/en/1.26.x/advanced-usage.html#ssl-warnings\n",
      "  InsecureRequestWarning,\n",
      "c:\\users\\deves\\appdata\\local\\programs\\python\\python37\\lib\\site-packages\\urllib3\\connectionpool.py:1050: InsecureRequestWarning: Unverified HTTPS request is being made to host '127.0.0.1'. Adding certificate verification is strongly advised. See: https://urllib3.readthedocs.io/en/1.26.x/advanced-usage.html#ssl-warnings\n",
      "  InsecureRequestWarning,\n",
      "c:\\users\\deves\\appdata\\local\\programs\\python\\python37\\lib\\site-packages\\urllib3\\connectionpool.py:1050: InsecureRequestWarning: Unverified HTTPS request is being made to host '127.0.0.1'. Adding certificate verification is strongly advised. See: https://urllib3.readthedocs.io/en/1.26.x/advanced-usage.html#ssl-warnings\n",
      "  InsecureRequestWarning,\n",
      "c:\\users\\deves\\appdata\\local\\programs\\python\\python37\\lib\\site-packages\\urllib3\\connectionpool.py:1050: InsecureRequestWarning: Unverified HTTPS request is being made to host '127.0.0.1'. Adding certificate verification is strongly advised. See: https://urllib3.readthedocs.io/en/1.26.x/advanced-usage.html#ssl-warnings\n",
      "  InsecureRequestWarning,\n",
      "c:\\users\\deves\\appdata\\local\\programs\\python\\python37\\lib\\site-packages\\urllib3\\connectionpool.py:1050: InsecureRequestWarning: Unverified HTTPS request is being made to host '127.0.0.1'. Adding certificate verification is strongly advised. See: https://urllib3.readthedocs.io/en/1.26.x/advanced-usage.html#ssl-warnings\n",
      "  InsecureRequestWarning,\n",
      "c:\\users\\deves\\appdata\\local\\programs\\python\\python37\\lib\\site-packages\\urllib3\\connectionpool.py:1050: InsecureRequestWarning: Unverified HTTPS request is being made to host '127.0.0.1'. Adding certificate verification is strongly advised. See: https://urllib3.readthedocs.io/en/1.26.x/advanced-usage.html#ssl-warnings\n",
      "  InsecureRequestWarning,\n",
      "c:\\users\\deves\\appdata\\local\\programs\\python\\python37\\lib\\site-packages\\urllib3\\connectionpool.py:1050: InsecureRequestWarning: Unverified HTTPS request is being made to host '127.0.0.1'. Adding certificate verification is strongly advised. See: https://urllib3.readthedocs.io/en/1.26.x/advanced-usage.html#ssl-warnings\n",
      "  InsecureRequestWarning,\n"
     ]
    },
    {
     "name": "stdout",
     "output_type": "stream",
     "text": [
      "Error in batch 6 : 'NoneType' object has no attribute 'text'\n",
      "Error in batch 6 : 'NoneType' object has no attribute 'text'\n"
     ]
    },
    {
     "name": "stderr",
     "output_type": "stream",
     "text": [
      "c:\\users\\deves\\appdata\\local\\programs\\python\\python37\\lib\\site-packages\\urllib3\\connectionpool.py:1050: InsecureRequestWarning: Unverified HTTPS request is being made to host '127.0.0.1'. Adding certificate verification is strongly advised. See: https://urllib3.readthedocs.io/en/1.26.x/advanced-usage.html#ssl-warnings\n",
      "  InsecureRequestWarning,\n",
      "c:\\users\\deves\\appdata\\local\\programs\\python\\python37\\lib\\site-packages\\urllib3\\connectionpool.py:1050: InsecureRequestWarning: Unverified HTTPS request is being made to host '127.0.0.1'. Adding certificate verification is strongly advised. See: https://urllib3.readthedocs.io/en/1.26.x/advanced-usage.html#ssl-warnings\n",
      "  InsecureRequestWarning,\n",
      "c:\\users\\deves\\appdata\\local\\programs\\python\\python37\\lib\\site-packages\\urllib3\\connectionpool.py:1050: InsecureRequestWarning: Unverified HTTPS request is being made to host '127.0.0.1'. Adding certificate verification is strongly advised. See: https://urllib3.readthedocs.io/en/1.26.x/advanced-usage.html#ssl-warnings\n",
      "  InsecureRequestWarning,\n",
      "c:\\users\\deves\\appdata\\local\\programs\\python\\python37\\lib\\site-packages\\urllib3\\connectionpool.py:1050: InsecureRequestWarning: Unverified HTTPS request is being made to host '127.0.0.1'. Adding certificate verification is strongly advised. See: https://urllib3.readthedocs.io/en/1.26.x/advanced-usage.html#ssl-warnings\n",
      "  InsecureRequestWarning,\n",
      "c:\\users\\deves\\appdata\\local\\programs\\python\\python37\\lib\\site-packages\\urllib3\\connectionpool.py:1050: InsecureRequestWarning: Unverified HTTPS request is being made to host '127.0.0.1'. Adding certificate verification is strongly advised. See: https://urllib3.readthedocs.io/en/1.26.x/advanced-usage.html#ssl-warnings\n",
      "  InsecureRequestWarning,\n"
     ]
    },
    {
     "name": "stdout",
     "output_type": "stream",
     "text": [
      "Error in batch 8 : 'NoneType' object has no attribute 'text'\n",
      "Error in batch 8 : 'NoneType' object has no attribute 'text'\n"
     ]
    },
    {
     "name": "stderr",
     "output_type": "stream",
     "text": [
      "c:\\users\\deves\\appdata\\local\\programs\\python\\python37\\lib\\site-packages\\urllib3\\connectionpool.py:1050: InsecureRequestWarning: Unverified HTTPS request is being made to host '127.0.0.1'. Adding certificate verification is strongly advised. See: https://urllib3.readthedocs.io/en/1.26.x/advanced-usage.html#ssl-warnings\n",
      "  InsecureRequestWarning,\n",
      "c:\\users\\deves\\appdata\\local\\programs\\python\\python37\\lib\\site-packages\\urllib3\\connectionpool.py:1050: InsecureRequestWarning: Unverified HTTPS request is being made to host '127.0.0.1'. Adding certificate verification is strongly advised. See: https://urllib3.readthedocs.io/en/1.26.x/advanced-usage.html#ssl-warnings\n",
      "  InsecureRequestWarning,\n",
      "c:\\users\\deves\\appdata\\local\\programs\\python\\python37\\lib\\site-packages\\urllib3\\connectionpool.py:1050: InsecureRequestWarning: Unverified HTTPS request is being made to host '127.0.0.1'. Adding certificate verification is strongly advised. See: https://urllib3.readthedocs.io/en/1.26.x/advanced-usage.html#ssl-warnings\n",
      "  InsecureRequestWarning,\n"
     ]
    },
    {
     "name": "stdout",
     "output_type": "stream",
     "text": [
      "Error in batch 9 : 'NoneType' object has no attribute 'text'\n",
      "Error in batch 9 : 'NoneType' object has no attribute 'text'\n"
     ]
    },
    {
     "name": "stderr",
     "output_type": "stream",
     "text": [
      "c:\\users\\deves\\appdata\\local\\programs\\python\\python37\\lib\\site-packages\\urllib3\\connectionpool.py:1050: InsecureRequestWarning: Unverified HTTPS request is being made to host '127.0.0.1'. Adding certificate verification is strongly advised. See: https://urllib3.readthedocs.io/en/1.26.x/advanced-usage.html#ssl-warnings\n",
      "  InsecureRequestWarning,\n",
      "c:\\users\\deves\\appdata\\local\\programs\\python\\python37\\lib\\site-packages\\urllib3\\connectionpool.py:1050: InsecureRequestWarning: Unverified HTTPS request is being made to host '127.0.0.1'. Adding certificate verification is strongly advised. See: https://urllib3.readthedocs.io/en/1.26.x/advanced-usage.html#ssl-warnings\n",
      "  InsecureRequestWarning,\n",
      "c:\\users\\deves\\appdata\\local\\programs\\python\\python37\\lib\\site-packages\\urllib3\\connectionpool.py:1050: InsecureRequestWarning: Unverified HTTPS request is being made to host '127.0.0.1'. Adding certificate verification is strongly advised. See: https://urllib3.readthedocs.io/en/1.26.x/advanced-usage.html#ssl-warnings\n",
      "  InsecureRequestWarning,\n",
      "c:\\users\\deves\\appdata\\local\\programs\\python\\python37\\lib\\site-packages\\urllib3\\connectionpool.py:1050: InsecureRequestWarning: Unverified HTTPS request is being made to host '127.0.0.1'. Adding certificate verification is strongly advised. See: https://urllib3.readthedocs.io/en/1.26.x/advanced-usage.html#ssl-warnings\n",
      "  InsecureRequestWarning,\n",
      "c:\\users\\deves\\appdata\\local\\programs\\python\\python37\\lib\\site-packages\\urllib3\\connectionpool.py:1050: InsecureRequestWarning: Unverified HTTPS request is being made to host '127.0.0.1'. Adding certificate verification is strongly advised. See: https://urllib3.readthedocs.io/en/1.26.x/advanced-usage.html#ssl-warnings\n",
      "  InsecureRequestWarning,\n",
      "c:\\users\\deves\\appdata\\local\\programs\\python\\python37\\lib\\site-packages\\urllib3\\connectionpool.py:1050: InsecureRequestWarning: Unverified HTTPS request is being made to host '127.0.0.1'. Adding certificate verification is strongly advised. See: https://urllib3.readthedocs.io/en/1.26.x/advanced-usage.html#ssl-warnings\n",
      "  InsecureRequestWarning,\n",
      "c:\\users\\deves\\appdata\\local\\programs\\python\\python37\\lib\\site-packages\\urllib3\\connectionpool.py:1050: InsecureRequestWarning: Unverified HTTPS request is being made to host '127.0.0.1'. Adding certificate verification is strongly advised. See: https://urllib3.readthedocs.io/en/1.26.x/advanced-usage.html#ssl-warnings\n",
      "  InsecureRequestWarning,\n",
      "c:\\users\\deves\\appdata\\local\\programs\\python\\python37\\lib\\site-packages\\urllib3\\connectionpool.py:1050: InsecureRequestWarning: Unverified HTTPS request is being made to host '127.0.0.1'. Adding certificate verification is strongly advised. See: https://urllib3.readthedocs.io/en/1.26.x/advanced-usage.html#ssl-warnings\n",
      "  InsecureRequestWarning,\n",
      "c:\\users\\deves\\appdata\\local\\programs\\python\\python37\\lib\\site-packages\\urllib3\\connectionpool.py:1050: InsecureRequestWarning: Unverified HTTPS request is being made to host '127.0.0.1'. Adding certificate verification is strongly advised. See: https://urllib3.readthedocs.io/en/1.26.x/advanced-usage.html#ssl-warnings\n",
      "  InsecureRequestWarning,\n"
     ]
    }
   ],
   "source": [
    "for batch,i in enumerate(dates):\n",
    "    batch += 1\n",
    "    g = GetStockData(i[0],i[1],\"AMBUJACEM-prices-\"+str(batch)+\".csv\",\"AMBUJACEM\")\n",
    "    g.get_prices()\n",
    "    g.get_options(batch)\n",
    "    with open(\"errors.txt\",\"w\") as f:\n",
    "        f.write(\",\".join(g.errors))"
   ]
  },
  {
   "cell_type": "code",
   "execution_count": 75,
   "id": "2113de04",
   "metadata": {},
   "outputs": [],
   "source": [
    "import calendar"
   ]
  },
  {
   "cell_type": "code",
   "execution_count": 82,
   "id": "98dcdd1f",
   "metadata": {},
   "outputs": [
    {
     "data": {
      "text/plain": [
       "[[0, 0, 0, 0, 1, 2, 3],\n",
       " [4, 5, 6, 7, 8, 9, 10],\n",
       " [11, 12, 13, 14, 15, 16, 17],\n",
       " [18, 19, 20, 21, 22, 23, 24],\n",
       " [25, 26, 27, 28, 29, 30, 31]]"
      ]
     },
     "execution_count": 82,
     "metadata": {},
     "output_type": "execute_result"
    }
   ],
   "source": [
    "a = calendar.monthcalendar(2022,7)\n",
    "a"
   ]
  },
  {
   "cell_type": "code",
   "execution_count": 87,
   "id": "0f0b76a2",
   "metadata": {},
   "outputs": [],
   "source": [
    "last = []\n",
    "for x in a:\n",
    "    for index,val in enumerate(x):\n",
    "        if(index == 3):\n",
    "            last.append(val)"
   ]
  },
  {
   "cell_type": "code",
   "execution_count": 88,
   "id": "7cec23ca",
   "metadata": {},
   "outputs": [
    {
     "data": {
      "text/plain": [
       "[0, 7, 14, 21, 28]"
      ]
     },
     "execution_count": 88,
     "metadata": {},
     "output_type": "execute_result"
    }
   ],
   "source": [
    "last"
   ]
  },
  {
   "cell_type": "code",
   "execution_count": 19,
   "id": "ba44fdcb",
   "metadata": {},
   "outputs": [],
   "source": [
    "digs = len(str(int(62.65)))\n",
    "p =62.65\n",
    "strike = int(int(p)/(10**(digs-1)))*(10**(digs-1))"
   ]
  },
  {
   "cell_type": "code",
   "execution_count": 20,
   "id": "7117d9fe",
   "metadata": {},
   "outputs": [
    {
     "data": {
      "text/plain": [
       "60"
      ]
     },
     "execution_count": 20,
     "metadata": {},
     "output_type": "execute_result"
    }
   ],
   "source": [
    "strike"
   ]
  },
  {
   "cell_type": "code",
   "execution_count": null,
   "id": "45e9e536",
   "metadata": {},
   "outputs": [],
   "source": []
  }
 ],
 "metadata": {
  "celltoolbar": "Raw Cell Format",
  "kernelspec": {
   "display_name": "Python 3 (ipykernel)",
   "language": "python",
   "name": "python3"
  },
  "language_info": {
   "codemirror_mode": {
    "name": "ipython",
    "version": 3
   },
   "file_extension": ".py",
   "mimetype": "text/x-python",
   "name": "python",
   "nbconvert_exporter": "python",
   "pygments_lexer": "ipython3",
   "version": "3.7.0"
  }
 },
 "nbformat": 4,
 "nbformat_minor": 5
}
