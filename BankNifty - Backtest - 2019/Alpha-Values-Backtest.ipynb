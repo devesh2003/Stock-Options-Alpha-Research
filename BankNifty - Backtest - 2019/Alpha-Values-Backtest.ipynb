{
 "cells": [
  {
   "cell_type": "markdown",
   "metadata": {},
   "source": [
    "## BankNifty Alpha Backtest 2019"
   ]
  },
  {
   "cell_type": "code",
   "execution_count": 1,
   "metadata": {},
   "outputs": [],
   "source": [
    "import pandas as pd\n",
    "from matplotlib.pyplot import plot\n",
    "from statistics import *\n",
    "import sys\n",
    "sys.path.insert(1,\"../\")\n",
    "import numpy as np\n",
    "from AlphaTests import *"
   ]
  },
  {
   "cell_type": "code",
   "execution_count": 2,
   "metadata": {},
   "outputs": [],
   "source": [
    "options = [\"banknifty-options-1.csv\",\n",
    "          \"banknifty-options-2.csv\",\n",
    "          \"banknifty-options-3.csv\",\n",
    "           \"banknifty-options-4.csv\",\n",
    "           \"banknifty-options-5.csv\",\n",
    "           \"banknifty-options-6.csv\",\n",
    "           \"banknifty-options-7.csv\",\n",
    "           \"banknifty-options-8.csv\",\n",
    "           \"banknifty-options-9.csv\",\n",
    "           \"banknifty-options-10.csv\",\n",
    "           \"banknifty-options-11.csv\",\n",
    "           \"banknifty-options-12.csv\"\n",
    "          ]\n",
    "\n",
    "prices = [\"banknifty-prices-1.csv\",\n",
    "          \"banknifty-prices-2.csv\",\n",
    "          \"banknifty-prices-3.csv\",\n",
    "          \"banknifty-prices-4.csv\",\n",
    "          \"banknifty-prices-5.csv\",\n",
    "          \"banknifty-prices-6.csv\",\n",
    "          \"banknifty-prices-7.csv\",\n",
    "          \"banknifty-prices-8.csv\",\n",
    "          \"banknifty-prices-9.csv\",\n",
    "          \"banknifty-prices-10.csv\",\n",
    "          \"banknifty-prices-11.csv\",\n",
    "          \"banknifty-prices-12.csv\",\n",
    "          ]"
   ]
  },
  {
   "cell_type": "code",
   "execution_count": 3,
   "metadata": {},
   "outputs": [],
   "source": [
    "loader = Loader(options,prices)"
   ]
  },
  {
   "cell_type": "code",
   "execution_count": 4,
   "metadata": {},
   "outputs": [
    {
     "name": "stdout",
     "output_type": "stream",
     "text": [
      "Mean Threshold : 1.031667\n"
     ]
    },
    {
     "data": {
      "text/plain": [
       "[0.6100000000000002,\n",
       " 0,\n",
       " 1.3900000000000008,\n",
       " 0.8700000000000004,\n",
       " 2.0000000000000013,\n",
       " 0.8900000000000005,\n",
       " 0.9200000000000005,\n",
       " 0.8000000000000004,\n",
       " 0.9000000000000005,\n",
       " 0.31,\n",
       " 2.0000000000000013,\n",
       " 1.690000000000001]"
      ]
     },
     "execution_count": 4,
     "metadata": {},
     "output_type": "execute_result"
    }
   ],
   "source": [
    "loader.find_individual_optimal_threshold()"
   ]
  },
  {
   "cell_type": "code",
   "execution_count": 5,
   "metadata": {},
   "outputs": [
    {
     "data": {
      "text/plain": [
       "[0.7500000000000003,\n",
       " 376.34787040206095,\n",
       " -10,\n",
       " 471.4061874082489,\n",
       " 847.75405781031]"
      ]
     },
     "execution_count": 5,
     "metadata": {},
     "output_type": "execute_result"
    }
   ],
   "source": [
    "loader.maximize_returns()"
   ]
  },
  {
   "cell_type": "code",
   "execution_count": 6,
   "metadata": {},
   "outputs": [
    {
     "data": {
      "text/plain": [
       "[0.31, 62.34337786061924, -10, 10, 72.34337786061924]"
      ]
     },
     "execution_count": 6,
     "metadata": {},
     "output_type": "execute_result"
    }
   ],
   "source": [
    "loader.minimize_losses()"
   ]
  },
  {
   "cell_type": "code",
   "execution_count": 7,
   "metadata": {},
   "outputs": [
    {
     "data": {
      "text/plain": [
       "202.4605690668284"
      ]
     },
     "execution_count": 7,
     "metadata": {},
     "output_type": "execute_result"
    }
   ],
   "source": [
    "loader.find_net_returns(1.96)"
   ]
  },
  {
   "cell_type": "code",
   "execution_count": 10,
   "metadata": {},
   "outputs": [
    {
     "data": {
      "image/png": "[encoded data removed]",
      "text/plain": [
       "<Figure size 432x288 with 1 Axes>"
      ]
     },
     "metadata": {
      "needs_background": "light"
     },
     "output_type": "display_data"
    }
   ],
   "source": [
    "loader.plot_scatter(0.75,limit=4)"
   ]
  },
  {
   "cell_type": "code",
   "execution_count": null,
   "metadata": {},
   "outputs": [],
   "source": []
  }
 ],
 "metadata": {
  "kernelspec": {
   "display_name": "Python 3 (ipykernel)",
   "language": "python",
   "name": "python3"
  },
  "language_info": {
   "codemirror_mode": {
    "name": "ipython",
    "version": 3
   },
   "file_extension": ".py",
   "mimetype": "text/x-python",
   "name": "python",
   "nbconvert_exporter": "python",
   "pygments_lexer": "ipython3",
   "version": "3.7.0"
  }
 },
 "nbformat": 4,
 "nbformat_minor": 4
}
