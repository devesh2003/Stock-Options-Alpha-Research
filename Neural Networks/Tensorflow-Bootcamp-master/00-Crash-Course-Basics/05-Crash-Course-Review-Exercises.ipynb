{
 "cells": [
  {
   "cell_type": "markdown",
   "metadata": {},
   "source": [
    "# Crash Course Review Exercises "
   ]
  },
  {
   "cell_type": "markdown",
   "metadata": {},
   "source": [
    "** Import numpy,pandas,matplotlib,and sklearn. Also set visualizations to be shown inline in the notebook.**"
   ]
  },
  {
   "cell_type": "code",
   "execution_count": 20,
   "metadata": {},
   "outputs": [],
   "source": [
    "import numpy as np\n",
    "import pandas as pd\n",
    "import matplotlib.pyplot as plt\n",
    "from sklearn.model_selection import train_test_split\n",
    "from sklearn.preprocessing import MinMaxScaler"
   ]
  },
  {
   "cell_type": "markdown",
   "metadata": {},
   "source": [
    "** Set Numpy's Random Seed to 101 **"
   ]
  },
  {
   "cell_type": "code",
   "execution_count": 8,
   "metadata": {},
   "outputs": [],
   "source": [
    "np.random.seed(101)"
   ]
  },
  {
   "cell_type": "markdown",
   "metadata": {},
   "source": [
    "** Create a NumPy Matrix of 100 rows by 5 columns consisting of random integers from 1-100. (Keep in mind that the upper limit may be exclusive.**"
   ]
  },
  {
   "cell_type": "code",
   "execution_count": 10,
   "metadata": {},
   "outputs": [],
   "source": [
    "mat = np.random.randint(1,100,(100,5))"
   ]
  },
  {
   "cell_type": "code",
   "execution_count": 11,
   "metadata": {},
   "outputs": [
    {
     "data": {
      "text/plain": [
       "array([[96, 12, 82, 71, 64],\n",
       "       [88, 76, 10, 78, 41],\n",
       "       [ 5, 64, 41, 61, 93],\n",
       "       [65,  6, 13, 94, 41],\n",
       "       [50, 84,  9, 30, 60],\n",
       "       [35, 45, 73, 20, 11],\n",
       "       [77, 96, 88,  1, 74],\n",
       "       [ 9, 63, 37, 84, 29],\n",
       "       [64,  8, 11, 53, 57],\n",
       "       [39, 74, 53, 19, 72],\n",
       "       [16, 45,  1, 13, 18],\n",
       "       [76, 80, 98, 94, 25],\n",
       "       [37, 64, 20, 36, 31],\n",
       "       [11, 61, 21, 28,  9],\n",
       "       [87, 27, 88, 47, 48],\n",
       "       [55, 87, 10, 46,  3],\n",
       "       [19, 59, 93, 12, 11],\n",
       "       [95, 36, 29,  4, 84],\n",
       "       [85, 48, 15, 70, 61],\n",
       "       [70, 52,  7, 89, 72],\n",
       "       [69, 24, 36, 80, 99],\n",
       "       [68, 83, 58, 78, 47],\n",
       "       [ 4, 47, 30, 87, 22],\n",
       "       [22, 82, 24, 95, 72],\n",
       "       [21, 28, 76,  6, 50],\n",
       "       [87, 90, 64, 83, 78],\n",
       "       [ 4, 57, 15, 50, 88],\n",
       "       [53, 14, 48, 50, 25],\n",
       "       [21, 65, 53, 61, 48],\n",
       "       [30, 61, 54, 12, 41],\n",
       "       [92, 46, 98, 25, 37],\n",
       "       [39, 10, 53, 68, 44],\n",
       "       [ 2, 80, 69, 69, 62],\n",
       "       [19, 52, 15, 29, 18],\n",
       "       [88, 47, 53, 17, 71],\n",
       "       [72, 85, 11, 63, 97],\n",
       "       [58, 24, 87, 86, 27],\n",
       "       [77, 67, 55, 18, 66],\n",
       "       [58, 90,  3, 81, 51],\n",
       "       [67, 89, 80, 94,  7],\n",
       "       [93, 43, 23, 21, 26],\n",
       "       [98, 55, 72, 73, 81],\n",
       "       [94, 65, 64, 81, 39],\n",
       "       [46, 36, 26, 96, 76],\n",
       "       [73, 12, 77, 80, 51],\n",
       "       [23, 60, 67,  2, 35],\n",
       "       [38, 58, 36, 43, 45],\n",
       "       [50, 32, 80, 86,  4],\n",
       "       [56, 74, 94, 95, 41],\n",
       "       [55, 89, 95, 87, 18],\n",
       "       [69, 18, 19, 61, 84],\n",
       "       [83,  8, 68, 35, 77],\n",
       "       [95, 21, 70, 74, 60],\n",
       "       [35, 70, 26, 79, 93],\n",
       "       [75, 76, 34, 10, 44],\n",
       "       [21, 83, 31,  4, 47],\n",
       "       [30, 48, 28, 82, 72],\n",
       "       [26, 95, 58, 22, 30],\n",
       "       [ 7, 55, 48, 48, 61],\n",
       "       [ 7, 76, 98, 54, 45],\n",
       "       [99, 40, 33, 88, 79],\n",
       "       [22, 91, 15, 21,  2],\n",
       "       [71, 26, 46, 97, 33],\n",
       "       [32, 42, 80, 88, 23],\n",
       "       [95, 47, 72, 25, 42],\n",
       "       [37, 32, 17, 88, 23],\n",
       "       [97,  4, 13, 72, 10],\n",
       "       [88, 96, 40, 65, 63],\n",
       "       [89, 77, 94, 84, 96],\n",
       "       [69, 70, 60, 53,  8],\n",
       "       [41, 74, 87, 15, 50],\n",
       "       [98, 26, 58, 41, 18],\n",
       "       [33, 84, 98, 28, 48],\n",
       "       [14, 71, 16, 93, 19],\n",
       "       [95, 49, 66, 83, 35],\n",
       "       [ 6, 47, 84, 28, 27],\n",
       "       [21, 88, 85, 18, 60],\n",
       "       [65, 45,  5, 52, 50],\n",
       "       [75, 83, 38, 54, 94],\n",
       "       [74,  6, 38, 57, 36],\n",
       "       [16, 41, 43, 72, 38],\n",
       "       [47, 72, 92, 98, 37],\n",
       "       [44, 28, 67, 58,  4],\n",
       "       [56, 71, 42, 68, 73],\n",
       "       [89, 68, 76, 70, 93],\n",
       "       [21, 16, 58, 10, 70],\n",
       "       [98, 92, 52, 55, 46],\n",
       "       [39, 16, 43, 62,  9],\n",
       "       [ 4, 89, 73, 42, 25],\n",
       "       [94, 29, 96, 44, 49],\n",
       "       [70, 43, 67, 83, 67],\n",
       "       [89, 79, 15, 54, 47],\n",
       "       [15, 28, 69, 22, 39],\n",
       "       [43, 31, 89, 80, 57],\n",
       "       [66, 94, 38, 88, 67],\n",
       "       [17, 61, 26, 31, 42],\n",
       "       [73, 46, 27, 88, 66],\n",
       "       [61, 90, 71, 34, 60],\n",
       "       [29, 17, 50, 96, 42],\n",
       "       [12, 87, 16, 96, 92]])"
      ]
     },
     "execution_count": 11,
     "metadata": {},
     "output_type": "execute_result"
    }
   ],
   "source": [
    "mat"
   ]
  },
  {
   "cell_type": "markdown",
   "metadata": {},
   "source": [
    "** Create a 2-D visualization using plt.imshow of the numpy matrix with a colorbar. Add a title to your plot. Bonus: Figure out how to change the [*aspect*](https://stackoverflow.com/questions/10540929/figure-of-imshow-is-too-small) of the imshow() plot. **"
   ]
  },
  {
   "cell_type": "code",
   "execution_count": 14,
   "metadata": {},
   "outputs": [
    {
     "data": {
      "text/plain": [
       "<matplotlib.image.AxesImage at 0x16866565128>"
      ]
     },
     "execution_count": 14,
     "metadata": {},
     "output_type": "execute_result"
    },
    {
     "data": {
      "image/png": "[encoded data removed]",
      "text/plain": [
       "<Figure size 432x288 with 1 Axes>"
      ]
     },
     "metadata": {
      "needs_background": "light"
     },
     "output_type": "display_data"
    }
   ],
   "source": [
    "plt.imshow(mat,aspect='auto')"
   ]
  },
  {
   "cell_type": "markdown",
   "metadata": {},
   "source": [
    "** Now use pd.DataFrame() to read in this numpy array as a dataframe. Simple pass in the numpy array into that function to get back a dataframe. Pandas will auto label the columns to 0-4**"
   ]
  },
  {
   "cell_type": "code",
   "execution_count": 15,
   "metadata": {},
   "outputs": [],
   "source": [
    "df = pd.DataFrame(data=mat)"
   ]
  },
  {
   "cell_type": "code",
   "execution_count": 16,
   "metadata": {},
   "outputs": [
    {
     "data": {
      "text/html": [
       "<div>\n",
       "<style scoped>\n",
       "    .dataframe tbody tr th:only-of-type {\n",
       "        vertical-align: middle;\n",
       "    }\n",
       "\n",
       "    .dataframe tbody tr th {\n",
       "        vertical-align: top;\n",
       "    }\n",
       "\n",
       "    .dataframe thead th {\n",
       "        text-align: right;\n",
       "    }\n",
       "</style>\n",
       "<table border=\"1\" class=\"dataframe\">\n",
       "  <thead>\n",
       "    <tr style=\"text-align: right;\">\n",
       "      <th></th>\n",
       "      <th>0</th>\n",
       "      <th>1</th>\n",
       "      <th>2</th>\n",
       "      <th>3</th>\n",
       "      <th>4</th>\n",
       "    </tr>\n",
       "  </thead>\n",
       "  <tbody>\n",
       "    <tr>\n",
       "      <th>0</th>\n",
       "      <td>96</td>\n",
       "      <td>12</td>\n",
       "      <td>82</td>\n",
       "      <td>71</td>\n",
       "      <td>64</td>\n",
       "    </tr>\n",
       "    <tr>\n",
       "      <th>1</th>\n",
       "      <td>88</td>\n",
       "      <td>76</td>\n",
       "      <td>10</td>\n",
       "      <td>78</td>\n",
       "      <td>41</td>\n",
       "    </tr>\n",
       "    <tr>\n",
       "      <th>2</th>\n",
       "      <td>5</td>\n",
       "      <td>64</td>\n",
       "      <td>41</td>\n",
       "      <td>61</td>\n",
       "      <td>93</td>\n",
       "    </tr>\n",
       "    <tr>\n",
       "      <th>3</th>\n",
       "      <td>65</td>\n",
       "      <td>6</td>\n",
       "      <td>13</td>\n",
       "      <td>94</td>\n",
       "      <td>41</td>\n",
       "    </tr>\n",
       "    <tr>\n",
       "      <th>4</th>\n",
       "      <td>50</td>\n",
       "      <td>84</td>\n",
       "      <td>9</td>\n",
       "      <td>30</td>\n",
       "      <td>60</td>\n",
       "    </tr>\n",
       "    <tr>\n",
       "      <th>...</th>\n",
       "      <td>...</td>\n",
       "      <td>...</td>\n",
       "      <td>...</td>\n",
       "      <td>...</td>\n",
       "      <td>...</td>\n",
       "    </tr>\n",
       "    <tr>\n",
       "      <th>95</th>\n",
       "      <td>17</td>\n",
       "      <td>61</td>\n",
       "      <td>26</td>\n",
       "      <td>31</td>\n",
       "      <td>42</td>\n",
       "    </tr>\n",
       "    <tr>\n",
       "      <th>96</th>\n",
       "      <td>73</td>\n",
       "      <td>46</td>\n",
       "      <td>27</td>\n",
       "      <td>88</td>\n",
       "      <td>66</td>\n",
       "    </tr>\n",
       "    <tr>\n",
       "      <th>97</th>\n",
       "      <td>61</td>\n",
       "      <td>90</td>\n",
       "      <td>71</td>\n",
       "      <td>34</td>\n",
       "      <td>60</td>\n",
       "    </tr>\n",
       "    <tr>\n",
       "      <th>98</th>\n",
       "      <td>29</td>\n",
       "      <td>17</td>\n",
       "      <td>50</td>\n",
       "      <td>96</td>\n",
       "      <td>42</td>\n",
       "    </tr>\n",
       "    <tr>\n",
       "      <th>99</th>\n",
       "      <td>12</td>\n",
       "      <td>87</td>\n",
       "      <td>16</td>\n",
       "      <td>96</td>\n",
       "      <td>92</td>\n",
       "    </tr>\n",
       "  </tbody>\n",
       "</table>\n",
       "<p>100 rows × 5 columns</p>\n",
       "</div>"
      ],
      "text/plain": [
       "     0   1   2   3   4\n",
       "0   96  12  82  71  64\n",
       "1   88  76  10  78  41\n",
       "2    5  64  41  61  93\n",
       "3   65   6  13  94  41\n",
       "4   50  84   9  30  60\n",
       "..  ..  ..  ..  ..  ..\n",
       "95  17  61  26  31  42\n",
       "96  73  46  27  88  66\n",
       "97  61  90  71  34  60\n",
       "98  29  17  50  96  42\n",
       "99  12  87  16  96  92\n",
       "\n",
       "[100 rows x 5 columns]"
      ]
     },
     "execution_count": 16,
     "metadata": {},
     "output_type": "execute_result"
    }
   ],
   "source": [
    "df"
   ]
  },
  {
   "cell_type": "markdown",
   "metadata": {},
   "source": [
    "** Now create a scatter plot using pandas of the 0 column vs the 1 column. **"
   ]
  },
  {
   "cell_type": "code",
   "execution_count": 19,
   "metadata": {},
   "outputs": [
    {
     "data": {
      "text/plain": [
       "<matplotlib.axes._subplots.AxesSubplot at 0x168697158d0>"
      ]
     },
     "execution_count": 19,
     "metadata": {},
     "output_type": "execute_result"
    },
    {
     "data": {
      "image/png": "[encoded data removed]",
      "text/plain": [
       "<Figure size 432x288 with 1 Axes>"
      ]
     },
     "metadata": {
      "needs_background": "light"
     },
     "output_type": "display_data"
    }
   ],
   "source": [
    "df.plot(x=0,y=1,kind='scatter')"
   ]
  },
  {
   "cell_type": "markdown",
   "metadata": {},
   "source": [
    "** Now scale the data to have a minimum of 0 and a maximum value of 1 using scikit-learn. **"
   ]
  },
  {
   "cell_type": "code",
   "execution_count": 21,
   "metadata": {},
   "outputs": [],
   "source": [
    "scaler = MinMaxScaler()"
   ]
  },
  {
   "cell_type": "code",
   "execution_count": 22,
   "metadata": {},
   "outputs": [
    {
     "data": {
      "text/plain": [
       "MinMaxScaler(copy=True, feature_range=(0, 1))"
      ]
     },
     "execution_count": 22,
     "metadata": {},
     "output_type": "execute_result"
    }
   ],
   "source": [
    "scaler.fit(df)"
   ]
  },
  {
   "cell_type": "code",
   "execution_count": 24,
   "metadata": {},
   "outputs": [
    {
     "data": {
      "text/plain": [
       "array([[0.96907216, 0.08695652, 0.83505155, 0.72164948, 0.63917526],\n",
       "       [0.88659794, 0.7826087 , 0.09278351, 0.79381443, 0.40206186],\n",
       "       [0.03092784, 0.65217391, 0.41237113, 0.6185567 , 0.93814433],\n",
       "       [0.64948454, 0.02173913, 0.12371134, 0.95876289, 0.40206186],\n",
       "       [0.49484536, 0.86956522, 0.08247423, 0.29896907, 0.59793814],\n",
       "       [0.34020619, 0.44565217, 0.74226804, 0.19587629, 0.09278351],\n",
       "       [0.77319588, 1.        , 0.89690722, 0.        , 0.74226804],\n",
       "       [0.07216495, 0.64130435, 0.37113402, 0.8556701 , 0.27835052],\n",
       "       [0.63917526, 0.04347826, 0.10309278, 0.53608247, 0.56701031],\n",
       "       [0.3814433 , 0.76086957, 0.53608247, 0.18556701, 0.72164948],\n",
       "       [0.1443299 , 0.44565217, 0.        , 0.12371134, 0.16494845],\n",
       "       [0.7628866 , 0.82608696, 1.        , 0.95876289, 0.2371134 ],\n",
       "       [0.36082474, 0.65217391, 0.19587629, 0.36082474, 0.29896907],\n",
       "       [0.09278351, 0.61956522, 0.20618557, 0.27835052, 0.07216495],\n",
       "       [0.87628866, 0.25      , 0.89690722, 0.4742268 , 0.4742268 ],\n",
       "       [0.54639175, 0.90217391, 0.09278351, 0.46391753, 0.01030928],\n",
       "       [0.17525773, 0.59782609, 0.94845361, 0.11340206, 0.09278351],\n",
       "       [0.95876289, 0.34782609, 0.28865979, 0.03092784, 0.84536082],\n",
       "       [0.8556701 , 0.47826087, 0.1443299 , 0.71134021, 0.60824742],\n",
       "       [0.70103093, 0.52173913, 0.06185567, 0.90721649, 0.72164948],\n",
       "       [0.69072165, 0.2173913 , 0.36082474, 0.81443299, 1.        ],\n",
       "       [0.68041237, 0.85869565, 0.58762887, 0.79381443, 0.46391753],\n",
       "       [0.02061856, 0.4673913 , 0.29896907, 0.88659794, 0.20618557],\n",
       "       [0.20618557, 0.84782609, 0.2371134 , 0.96907216, 0.72164948],\n",
       "       [0.19587629, 0.26086957, 0.77319588, 0.05154639, 0.49484536],\n",
       "       [0.87628866, 0.93478261, 0.64948454, 0.84536082, 0.78350515],\n",
       "       [0.02061856, 0.57608696, 0.1443299 , 0.50515464, 0.88659794],\n",
       "       [0.5257732 , 0.10869565, 0.48453608, 0.50515464, 0.2371134 ],\n",
       "       [0.19587629, 0.66304348, 0.53608247, 0.6185567 , 0.4742268 ],\n",
       "       [0.28865979, 0.61956522, 0.54639175, 0.11340206, 0.40206186],\n",
       "       [0.92783505, 0.45652174, 1.        , 0.24742268, 0.36082474],\n",
       "       [0.3814433 , 0.06521739, 0.53608247, 0.69072165, 0.43298969],\n",
       "       [0.        , 0.82608696, 0.70103093, 0.70103093, 0.6185567 ],\n",
       "       [0.17525773, 0.52173913, 0.1443299 , 0.28865979, 0.16494845],\n",
       "       [0.88659794, 0.4673913 , 0.53608247, 0.16494845, 0.71134021],\n",
       "       [0.72164948, 0.88043478, 0.10309278, 0.63917526, 0.97938144],\n",
       "       [0.57731959, 0.2173913 , 0.88659794, 0.87628866, 0.25773196],\n",
       "       [0.77319588, 0.68478261, 0.55670103, 0.17525773, 0.65979381],\n",
       "       [0.57731959, 0.93478261, 0.02061856, 0.82474227, 0.50515464],\n",
       "       [0.67010309, 0.92391304, 0.81443299, 0.95876289, 0.05154639],\n",
       "       [0.93814433, 0.42391304, 0.22680412, 0.20618557, 0.24742268],\n",
       "       [0.98969072, 0.55434783, 0.73195876, 0.74226804, 0.81443299],\n",
       "       [0.94845361, 0.66304348, 0.64948454, 0.82474227, 0.3814433 ],\n",
       "       [0.45360825, 0.34782609, 0.25773196, 0.97938144, 0.7628866 ],\n",
       "       [0.73195876, 0.08695652, 0.78350515, 0.81443299, 0.50515464],\n",
       "       [0.21649485, 0.60869565, 0.68041237, 0.01030928, 0.34020619],\n",
       "       [0.37113402, 0.58695652, 0.36082474, 0.43298969, 0.44329897],\n",
       "       [0.49484536, 0.30434783, 0.81443299, 0.87628866, 0.02061856],\n",
       "       [0.55670103, 0.76086957, 0.95876289, 0.96907216, 0.40206186],\n",
       "       [0.54639175, 0.92391304, 0.96907216, 0.88659794, 0.16494845],\n",
       "       [0.69072165, 0.15217391, 0.18556701, 0.6185567 , 0.84536082],\n",
       "       [0.83505155, 0.04347826, 0.69072165, 0.35051546, 0.77319588],\n",
       "       [0.95876289, 0.18478261, 0.71134021, 0.75257732, 0.59793814],\n",
       "       [0.34020619, 0.7173913 , 0.25773196, 0.80412371, 0.93814433],\n",
       "       [0.75257732, 0.7826087 , 0.34020619, 0.09278351, 0.43298969],\n",
       "       [0.19587629, 0.85869565, 0.30927835, 0.03092784, 0.46391753],\n",
       "       [0.28865979, 0.47826087, 0.27835052, 0.83505155, 0.72164948],\n",
       "       [0.24742268, 0.98913043, 0.58762887, 0.21649485, 0.28865979],\n",
       "       [0.05154639, 0.55434783, 0.48453608, 0.48453608, 0.60824742],\n",
       "       [0.05154639, 0.7826087 , 1.        , 0.54639175, 0.44329897],\n",
       "       [1.        , 0.39130435, 0.32989691, 0.89690722, 0.79381443],\n",
       "       [0.20618557, 0.94565217, 0.1443299 , 0.20618557, 0.        ],\n",
       "       [0.71134021, 0.23913043, 0.46391753, 0.98969072, 0.31958763],\n",
       "       [0.30927835, 0.41304348, 0.81443299, 0.89690722, 0.21649485],\n",
       "       [0.95876289, 0.4673913 , 0.73195876, 0.24742268, 0.41237113],\n",
       "       [0.36082474, 0.30434783, 0.16494845, 0.89690722, 0.21649485],\n",
       "       [0.97938144, 0.        , 0.12371134, 0.73195876, 0.08247423],\n",
       "       [0.88659794, 1.        , 0.40206186, 0.65979381, 0.62886598],\n",
       "       [0.89690722, 0.79347826, 0.95876289, 0.8556701 , 0.96907216],\n",
       "       [0.69072165, 0.7173913 , 0.60824742, 0.53608247, 0.06185567],\n",
       "       [0.40206186, 0.76086957, 0.88659794, 0.1443299 , 0.49484536],\n",
       "       [0.98969072, 0.23913043, 0.58762887, 0.41237113, 0.16494845],\n",
       "       [0.31958763, 0.86956522, 1.        , 0.27835052, 0.4742268 ],\n",
       "       [0.12371134, 0.72826087, 0.15463918, 0.94845361, 0.17525773],\n",
       "       [0.95876289, 0.48913043, 0.67010309, 0.84536082, 0.34020619],\n",
       "       [0.04123711, 0.4673913 , 0.8556701 , 0.27835052, 0.25773196],\n",
       "       [0.19587629, 0.91304348, 0.86597938, 0.17525773, 0.59793814],\n",
       "       [0.64948454, 0.44565217, 0.04123711, 0.5257732 , 0.49484536],\n",
       "       [0.75257732, 0.85869565, 0.3814433 , 0.54639175, 0.94845361],\n",
       "       [0.74226804, 0.02173913, 0.3814433 , 0.57731959, 0.35051546],\n",
       "       [0.1443299 , 0.40217391, 0.43298969, 0.73195876, 0.37113402],\n",
       "       [0.46391753, 0.73913043, 0.93814433, 1.        , 0.36082474],\n",
       "       [0.43298969, 0.26086957, 0.68041237, 0.58762887, 0.02061856],\n",
       "       [0.55670103, 0.72826087, 0.42268041, 0.69072165, 0.73195876],\n",
       "       [0.89690722, 0.69565217, 0.77319588, 0.71134021, 0.93814433],\n",
       "       [0.19587629, 0.13043478, 0.58762887, 0.09278351, 0.70103093],\n",
       "       [0.98969072, 0.95652174, 0.5257732 , 0.55670103, 0.45360825],\n",
       "       [0.3814433 , 0.13043478, 0.43298969, 0.62886598, 0.07216495],\n",
       "       [0.02061856, 0.92391304, 0.74226804, 0.42268041, 0.2371134 ],\n",
       "       [0.94845361, 0.27173913, 0.97938144, 0.44329897, 0.48453608],\n",
       "       [0.70103093, 0.42391304, 0.68041237, 0.84536082, 0.67010309],\n",
       "       [0.89690722, 0.81521739, 0.1443299 , 0.54639175, 0.46391753],\n",
       "       [0.13402062, 0.26086957, 0.70103093, 0.21649485, 0.3814433 ],\n",
       "       [0.42268041, 0.29347826, 0.90721649, 0.81443299, 0.56701031],\n",
       "       [0.65979381, 0.97826087, 0.3814433 , 0.89690722, 0.67010309],\n",
       "       [0.15463918, 0.61956522, 0.25773196, 0.30927835, 0.41237113],\n",
       "       [0.73195876, 0.45652174, 0.26804124, 0.89690722, 0.65979381],\n",
       "       [0.60824742, 0.93478261, 0.72164948, 0.34020619, 0.59793814],\n",
       "       [0.27835052, 0.14130435, 0.50515464, 0.97938144, 0.41237113],\n",
       "       [0.10309278, 0.90217391, 0.15463918, 0.97938144, 0.92783505]])"
      ]
     },
     "execution_count": 24,
     "metadata": {},
     "output_type": "execute_result"
    }
   ],
   "source": [
    "scaler.transform(df)"
   ]
  },
  {
   "cell_type": "markdown",
   "metadata": {},
   "source": [
    "** Using your previously created DataFrame, use [df.columns = [...]](https://stackoverflow.com/questions/11346283/renaming-columns-in-pandas) to rename the pandas columns to be ['f1','f2','f3','f4','label']. Then perform a train/test split with scikitlearn.**"
   ]
  },
  {
   "cell_type": "code",
   "execution_count": 25,
   "metadata": {},
   "outputs": [],
   "source": [
    "df.columns = ['f1','f2','f3','f4','label']"
   ]
  },
  {
   "cell_type": "code",
   "execution_count": 26,
   "metadata": {},
   "outputs": [],
   "source": [
    "X = df[['f1','f2','f3','f4']]"
   ]
  },
  {
   "cell_type": "code",
   "execution_count": 27,
   "metadata": {},
   "outputs": [],
   "source": [
    "y = df['label']"
   ]
  },
  {
   "cell_type": "code",
   "execution_count": 29,
   "metadata": {},
   "outputs": [],
   "source": [
    "X_train,X_test,y_train,y_test = train_test_split(X,y,test_size=0.33)"
   ]
  },
  {
   "cell_type": "code",
   "execution_count": 30,
   "metadata": {},
   "outputs": [
    {
     "data": {
      "text/html": [
       "<div>\n",
       "<style scoped>\n",
       "    .dataframe tbody tr th:only-of-type {\n",
       "        vertical-align: middle;\n",
       "    }\n",
       "\n",
       "    .dataframe tbody tr th {\n",
       "        vertical-align: top;\n",
       "    }\n",
       "\n",
       "    .dataframe thead th {\n",
       "        text-align: right;\n",
       "    }\n",
       "</style>\n",
       "<table border=\"1\" class=\"dataframe\">\n",
       "  <thead>\n",
       "    <tr style=\"text-align: right;\">\n",
       "      <th></th>\n",
       "      <th>f1</th>\n",
       "      <th>f2</th>\n",
       "      <th>f3</th>\n",
       "      <th>f4</th>\n",
       "    </tr>\n",
       "  </thead>\n",
       "  <tbody>\n",
       "    <tr>\n",
       "      <th>1</th>\n",
       "      <td>88</td>\n",
       "      <td>76</td>\n",
       "      <td>10</td>\n",
       "      <td>78</td>\n",
       "    </tr>\n",
       "    <tr>\n",
       "      <th>76</th>\n",
       "      <td>21</td>\n",
       "      <td>88</td>\n",
       "      <td>85</td>\n",
       "      <td>18</td>\n",
       "    </tr>\n",
       "    <tr>\n",
       "      <th>78</th>\n",
       "      <td>75</td>\n",
       "      <td>83</td>\n",
       "      <td>38</td>\n",
       "      <td>54</td>\n",
       "    </tr>\n",
       "    <tr>\n",
       "      <th>33</th>\n",
       "      <td>19</td>\n",
       "      <td>52</td>\n",
       "      <td>15</td>\n",
       "      <td>29</td>\n",
       "    </tr>\n",
       "    <tr>\n",
       "      <th>29</th>\n",
       "      <td>30</td>\n",
       "      <td>61</td>\n",
       "      <td>54</td>\n",
       "      <td>12</td>\n",
       "    </tr>\n",
       "    <tr>\n",
       "      <th>...</th>\n",
       "      <td>...</td>\n",
       "      <td>...</td>\n",
       "      <td>...</td>\n",
       "      <td>...</td>\n",
       "    </tr>\n",
       "    <tr>\n",
       "      <th>67</th>\n",
       "      <td>88</td>\n",
       "      <td>96</td>\n",
       "      <td>40</td>\n",
       "      <td>65</td>\n",
       "    </tr>\n",
       "    <tr>\n",
       "      <th>86</th>\n",
       "      <td>98</td>\n",
       "      <td>92</td>\n",
       "      <td>52</td>\n",
       "      <td>55</td>\n",
       "    </tr>\n",
       "    <tr>\n",
       "      <th>57</th>\n",
       "      <td>26</td>\n",
       "      <td>95</td>\n",
       "      <td>58</td>\n",
       "      <td>22</td>\n",
       "    </tr>\n",
       "    <tr>\n",
       "      <th>93</th>\n",
       "      <td>43</td>\n",
       "      <td>31</td>\n",
       "      <td>89</td>\n",
       "      <td>80</td>\n",
       "    </tr>\n",
       "    <tr>\n",
       "      <th>70</th>\n",
       "      <td>41</td>\n",
       "      <td>74</td>\n",
       "      <td>87</td>\n",
       "      <td>15</td>\n",
       "    </tr>\n",
       "  </tbody>\n",
       "</table>\n",
       "<p>67 rows × 4 columns</p>\n",
       "</div>"
      ],
      "text/plain": [
       "    f1  f2  f3  f4\n",
       "1   88  76  10  78\n",
       "76  21  88  85  18\n",
       "78  75  83  38  54\n",
       "33  19  52  15  29\n",
       "29  30  61  54  12\n",
       "..  ..  ..  ..  ..\n",
       "67  88  96  40  65\n",
       "86  98  92  52  55\n",
       "57  26  95  58  22\n",
       "93  43  31  89  80\n",
       "70  41  74  87  15\n",
       "\n",
       "[67 rows x 4 columns]"
      ]
     },
     "execution_count": 30,
     "metadata": {},
     "output_type": "execute_result"
    }
   ],
   "source": [
    "X_train"
   ]
  },
  {
   "cell_type": "markdown",
   "metadata": {},
   "source": [
    "# Great Job!"
   ]
  }
 ],
 "metadata": {
  "kernelspec": {
   "display_name": "Python 3",
   "language": "python",
   "name": "python3"
  },
  "language_info": {
   "codemirror_mode": {
    "name": "ipython",
    "version": 3
   },
   "file_extension": ".py",
   "mimetype": "text/x-python",
   "name": "python",
   "nbconvert_exporter": "python",
   "pygments_lexer": "ipython3",
   "version": "3.6.6"
  }
 },
 "nbformat": 4,
 "nbformat_minor": 2
}
